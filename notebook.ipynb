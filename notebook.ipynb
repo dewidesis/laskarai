{
  "cells": [
    {
      "cell_type": "markdown",
      "metadata": {
        "id": "H9wADwK78DCz"
      },
      "source": [
        "# Proyek Analisis Data: Bike Sharing Dataset\n",
        "- **Nama:** Dewi Kunthi Siswati Suryo\n",
        "- **Email:** dewikunthi6@gmail.com\n",
        "- **ID Dicoding:** dewikunthisiswati"
      ]
    },
    {
      "cell_type": "markdown",
      "metadata": {
        "id": "eE0raob58DC0"
      },
      "source": [
        "## Menentukan Pertanyaan Bisnis"
      ]
    },
    {
      "cell_type": "markdown",
      "metadata": {
        "id": "GmQeQ5YF8DC0"
      },
      "source": [
        "- Pada musim apakah rata-rata jumlah penyewaan sepeda tertinggi?\n",
        "- Bagaimana rata-rata jumlah sewa sepeda di hari libur dan hari kerja?\n",
        "- Bagaimana pola jumlah sewa sepeda perbulan?"
      ]
    },
    {
      "cell_type": "markdown",
      "metadata": {
        "id": "H-z4QGlO8DC1"
      },
      "source": [
        "## Import Semua Packages/Library yang Digunakan"
      ]
    },
    {
      "cell_type": "code",
      "execution_count": 21,
      "metadata": {
        "id": "FVYwaObI8DC1"
      },
      "outputs": [],
      "source": [
        "import numpy as np\n",
        "import pandas as pd\n",
        "import matplotlib.pyplot as plt\n",
        "import seaborn as sn\n",
        "from datetime import datetime"
      ]
    },
    {
      "cell_type": "markdown",
      "metadata": {
        "id": "h_Sh51Xy8DC1"
      },
      "source": [
        "## Data Wrangling"
      ]
    },
    {
      "cell_type": "markdown",
      "metadata": {
        "id": "sXU2GBYu8DC1"
      },
      "source": [
        "### Gathering Data"
      ]
    },
    {
      "cell_type": "code",
      "execution_count": 22,
      "metadata": {
        "id": "zjCBk1BI8DC1"
      },
      "outputs": [
        {
          "data": {
            "application/vnd.microsoft.datawrangler.viewer.v0+json": {
              "columns": [
                {
                  "name": "index",
                  "rawType": "int64",
                  "type": "integer"
                },
                {
                  "name": "instant",
                  "rawType": "int64",
                  "type": "integer"
                },
                {
                  "name": "dteday",
                  "rawType": "object",
                  "type": "string"
                },
                {
                  "name": "season",
                  "rawType": "int64",
                  "type": "integer"
                },
                {
                  "name": "yr",
                  "rawType": "int64",
                  "type": "integer"
                },
                {
                  "name": "mnth",
                  "rawType": "int64",
                  "type": "integer"
                },
                {
                  "name": "holiday",
                  "rawType": "int64",
                  "type": "integer"
                },
                {
                  "name": "weekday",
                  "rawType": "int64",
                  "type": "integer"
                },
                {
                  "name": "workingday",
                  "rawType": "int64",
                  "type": "integer"
                },
                {
                  "name": "weathersit",
                  "rawType": "int64",
                  "type": "integer"
                },
                {
                  "name": "temp",
                  "rawType": "float64",
                  "type": "float"
                },
                {
                  "name": "atemp",
                  "rawType": "float64",
                  "type": "float"
                },
                {
                  "name": "hum",
                  "rawType": "float64",
                  "type": "float"
                },
                {
                  "name": "windspeed",
                  "rawType": "float64",
                  "type": "float"
                },
                {
                  "name": "casual",
                  "rawType": "int64",
                  "type": "integer"
                },
                {
                  "name": "registered",
                  "rawType": "int64",
                  "type": "integer"
                },
                {
                  "name": "cnt",
                  "rawType": "int64",
                  "type": "integer"
                }
              ],
              "conversionMethod": "pd.DataFrame",
              "ref": "de977b90-1947-492e-8727-a6520d428f91",
              "rows": [
                [
                  "0",
                  "1",
                  "01/01/2011",
                  "1",
                  "0",
                  "1",
                  "0",
                  "6",
                  "0",
                  "2",
                  "0.344167",
                  "0.363625",
                  "0.805833",
                  "0.160446",
                  "331",
                  "654",
                  "985"
                ],
                [
                  "1",
                  "2",
                  "02/01/2011",
                  "1",
                  "0",
                  "1",
                  "0",
                  "0",
                  "0",
                  "2",
                  "0.363478",
                  "0.353739",
                  "0.696087",
                  "0.248539",
                  "131",
                  "670",
                  "801"
                ],
                [
                  "2",
                  "3",
                  "03/01/2011",
                  "1",
                  "0",
                  "1",
                  "0",
                  "1",
                  "1",
                  "1",
                  "0.196364",
                  "0.189405",
                  "0.437273",
                  "0.248309",
                  "120",
                  "1229",
                  "1349"
                ],
                [
                  "3",
                  "4",
                  "04/01/2011",
                  "1",
                  "0",
                  "1",
                  "0",
                  "2",
                  "1",
                  "1",
                  "0.2",
                  "0.212122",
                  "0.590435",
                  "0.160296",
                  "108",
                  "1454",
                  "1562"
                ],
                [
                  "4",
                  "5",
                  "05/01/2011",
                  "1",
                  "0",
                  "1",
                  "0",
                  "3",
                  "1",
                  "1",
                  "0.226957",
                  "0.22927",
                  "0.436957",
                  "0.1869",
                  "82",
                  "1518",
                  "1600"
                ]
              ],
              "shape": {
                "columns": 16,
                "rows": 5
              }
            },
            "text/html": [
              "<div>\n",
              "<style scoped>\n",
              "    .dataframe tbody tr th:only-of-type {\n",
              "        vertical-align: middle;\n",
              "    }\n",
              "\n",
              "    .dataframe tbody tr th {\n",
              "        vertical-align: top;\n",
              "    }\n",
              "\n",
              "    .dataframe thead th {\n",
              "        text-align: right;\n",
              "    }\n",
              "</style>\n",
              "<table border=\"1\" class=\"dataframe\">\n",
              "  <thead>\n",
              "    <tr style=\"text-align: right;\">\n",
              "      <th></th>\n",
              "      <th>instant</th>\n",
              "      <th>dteday</th>\n",
              "      <th>season</th>\n",
              "      <th>yr</th>\n",
              "      <th>mnth</th>\n",
              "      <th>holiday</th>\n",
              "      <th>weekday</th>\n",
              "      <th>workingday</th>\n",
              "      <th>weathersit</th>\n",
              "      <th>temp</th>\n",
              "      <th>atemp</th>\n",
              "      <th>hum</th>\n",
              "      <th>windspeed</th>\n",
              "      <th>casual</th>\n",
              "      <th>registered</th>\n",
              "      <th>cnt</th>\n",
              "    </tr>\n",
              "  </thead>\n",
              "  <tbody>\n",
              "    <tr>\n",
              "      <th>0</th>\n",
              "      <td>1</td>\n",
              "      <td>01/01/2011</td>\n",
              "      <td>1</td>\n",
              "      <td>0</td>\n",
              "      <td>1</td>\n",
              "      <td>0</td>\n",
              "      <td>6</td>\n",
              "      <td>0</td>\n",
              "      <td>2</td>\n",
              "      <td>0.344167</td>\n",
              "      <td>0.363625</td>\n",
              "      <td>0.805833</td>\n",
              "      <td>0.160446</td>\n",
              "      <td>331</td>\n",
              "      <td>654</td>\n",
              "      <td>985</td>\n",
              "    </tr>\n",
              "    <tr>\n",
              "      <th>1</th>\n",
              "      <td>2</td>\n",
              "      <td>02/01/2011</td>\n",
              "      <td>1</td>\n",
              "      <td>0</td>\n",
              "      <td>1</td>\n",
              "      <td>0</td>\n",
              "      <td>0</td>\n",
              "      <td>0</td>\n",
              "      <td>2</td>\n",
              "      <td>0.363478</td>\n",
              "      <td>0.353739</td>\n",
              "      <td>0.696087</td>\n",
              "      <td>0.248539</td>\n",
              "      <td>131</td>\n",
              "      <td>670</td>\n",
              "      <td>801</td>\n",
              "    </tr>\n",
              "    <tr>\n",
              "      <th>2</th>\n",
              "      <td>3</td>\n",
              "      <td>03/01/2011</td>\n",
              "      <td>1</td>\n",
              "      <td>0</td>\n",
              "      <td>1</td>\n",
              "      <td>0</td>\n",
              "      <td>1</td>\n",
              "      <td>1</td>\n",
              "      <td>1</td>\n",
              "      <td>0.196364</td>\n",
              "      <td>0.189405</td>\n",
              "      <td>0.437273</td>\n",
              "      <td>0.248309</td>\n",
              "      <td>120</td>\n",
              "      <td>1229</td>\n",
              "      <td>1349</td>\n",
              "    </tr>\n",
              "    <tr>\n",
              "      <th>3</th>\n",
              "      <td>4</td>\n",
              "      <td>04/01/2011</td>\n",
              "      <td>1</td>\n",
              "      <td>0</td>\n",
              "      <td>1</td>\n",
              "      <td>0</td>\n",
              "      <td>2</td>\n",
              "      <td>1</td>\n",
              "      <td>1</td>\n",
              "      <td>0.200000</td>\n",
              "      <td>0.212122</td>\n",
              "      <td>0.590435</td>\n",
              "      <td>0.160296</td>\n",
              "      <td>108</td>\n",
              "      <td>1454</td>\n",
              "      <td>1562</td>\n",
              "    </tr>\n",
              "    <tr>\n",
              "      <th>4</th>\n",
              "      <td>5</td>\n",
              "      <td>05/01/2011</td>\n",
              "      <td>1</td>\n",
              "      <td>0</td>\n",
              "      <td>1</td>\n",
              "      <td>0</td>\n",
              "      <td>3</td>\n",
              "      <td>1</td>\n",
              "      <td>1</td>\n",
              "      <td>0.226957</td>\n",
              "      <td>0.229270</td>\n",
              "      <td>0.436957</td>\n",
              "      <td>0.186900</td>\n",
              "      <td>82</td>\n",
              "      <td>1518</td>\n",
              "      <td>1600</td>\n",
              "    </tr>\n",
              "  </tbody>\n",
              "</table>\n",
              "</div>"
            ],
            "text/plain": [
              "   instant      dteday  season  yr  mnth  holiday  weekday  workingday  \\\n",
              "0        1  01/01/2011       1   0     1        0        6           0   \n",
              "1        2  02/01/2011       1   0     1        0        0           0   \n",
              "2        3  03/01/2011       1   0     1        0        1           1   \n",
              "3        4  04/01/2011       1   0     1        0        2           1   \n",
              "4        5  05/01/2011       1   0     1        0        3           1   \n",
              "\n",
              "   weathersit      temp     atemp       hum  windspeed  casual  registered  \\\n",
              "0           2  0.344167  0.363625  0.805833   0.160446     331         654   \n",
              "1           2  0.363478  0.353739  0.696087   0.248539     131         670   \n",
              "2           1  0.196364  0.189405  0.437273   0.248309     120        1229   \n",
              "3           1  0.200000  0.212122  0.590435   0.160296     108        1454   \n",
              "4           1  0.226957  0.229270  0.436957   0.186900      82        1518   \n",
              "\n",
              "    cnt  \n",
              "0   985  \n",
              "1   801  \n",
              "2  1349  \n",
              "3  1562  \n",
              "4  1600  "
            ]
          },
          "execution_count": 22,
          "metadata": {},
          "output_type": "execute_result"
        }
      ],
      "source": [
        "day = pd.read_csv('D:/LaskarAI/laskarai/data/day.csv', delimiter = ';')\n",
        "day.head()"
      ]
    },
    {
      "cell_type": "code",
      "execution_count": 23,
      "metadata": {},
      "outputs": [
        {
          "name": "stdout",
          "output_type": "stream",
          "text": [
            "Jumlah baris : 731\n",
            "Jumlah kolom : 16\n"
          ]
        }
      ],
      "source": [
        "# Menghitung jumlah baris dan kolom pada data\n",
        "print('Jumlah baris :', day.shape[0])\n",
        "print('Jumlah kolom :', day.shape[1])"
      ]
    },
    {
      "cell_type": "markdown",
      "metadata": {
        "id": "MMi6xGaDkbCi"
      },
      "source": [
        "- Terdapat 731 baris dan 16 kolom pada data."
      ]
    },
    {
      "cell_type": "markdown",
      "metadata": {
        "id": "FHSiqaZp8DC1"
      },
      "source": [
        "### Assessing Data"
      ]
    },
    {
      "cell_type": "code",
      "execution_count": 24,
      "metadata": {
        "id": "ax-3tEjc9Cj1"
      },
      "outputs": [
        {
          "name": "stdout",
          "output_type": "stream",
          "text": [
            "<class 'pandas.core.frame.DataFrame'>\n",
            "RangeIndex: 731 entries, 0 to 730\n",
            "Data columns (total 16 columns):\n",
            " #   Column      Non-Null Count  Dtype  \n",
            "---  ------      --------------  -----  \n",
            " 0   instant     731 non-null    int64  \n",
            " 1   dteday      731 non-null    object \n",
            " 2   season      731 non-null    int64  \n",
            " 3   yr          731 non-null    int64  \n",
            " 4   mnth        731 non-null    int64  \n",
            " 5   holiday     731 non-null    int64  \n",
            " 6   weekday     731 non-null    int64  \n",
            " 7   workingday  731 non-null    int64  \n",
            " 8   weathersit  731 non-null    int64  \n",
            " 9   temp        731 non-null    float64\n",
            " 10  atemp       731 non-null    float64\n",
            " 11  hum         731 non-null    float64\n",
            " 12  windspeed   731 non-null    float64\n",
            " 13  casual      731 non-null    int64  \n",
            " 14  registered  731 non-null    int64  \n",
            " 15  cnt         731 non-null    int64  \n",
            "dtypes: float64(4), int64(11), object(1)\n",
            "memory usage: 91.5+ KB\n"
          ]
        }
      ],
      "source": [
        "day.info()"
      ]
    },
    {
      "cell_type": "markdown",
      "metadata": {
        "id": "7dtxhAPrkhPL"
      },
      "source": [
        "- Tipe data masih belum sesuai, variabel season seharusnya bertipe category."
      ]
    },
    {
      "cell_type": "code",
      "execution_count": 25,
      "metadata": {
        "id": "jVnYpprE9Evz"
      },
      "outputs": [
        {
          "data": {
            "text/plain": [
              "instant       0\n",
              "dteday        0\n",
              "season        0\n",
              "yr            0\n",
              "mnth          0\n",
              "holiday       0\n",
              "weekday       0\n",
              "workingday    0\n",
              "weathersit    0\n",
              "temp          0\n",
              "atemp         0\n",
              "hum           0\n",
              "windspeed     0\n",
              "casual        0\n",
              "registered    0\n",
              "cnt           0\n",
              "dtype: int64"
            ]
          },
          "execution_count": 25,
          "metadata": {},
          "output_type": "execute_result"
        }
      ],
      "source": [
        "# Pengecekan missing value\n",
        "day.isna().sum()"
      ]
    },
    {
      "cell_type": "markdown",
      "metadata": {},
      "source": [
        "Tidak terdapat missing value pada data."
      ]
    },
    {
      "cell_type": "code",
      "execution_count": 26,
      "metadata": {},
      "outputs": [
        {
          "data": {
            "text/plain": [
              "np.int64(0)"
            ]
          },
          "execution_count": 26,
          "metadata": {},
          "output_type": "execute_result"
        }
      ],
      "source": [
        "# Pengecekan duplikat data\n",
        "day.duplicated().sum()"
      ]
    },
    {
      "cell_type": "markdown",
      "metadata": {},
      "source": [
        "Tidak terdapat duplikasi pada data."
      ]
    },
    {
      "cell_type": "markdown",
      "metadata": {
        "id": "EhN5R4hr8DC1"
      },
      "source": [
        "### Cleaning Data"
      ]
    },
    {
      "cell_type": "code",
      "execution_count": 27,
      "metadata": {},
      "outputs": [
        {
          "name": "stdout",
          "output_type": "stream",
          "text": [
            "<class 'pandas.core.frame.DataFrame'>\n",
            "RangeIndex: 731 entries, 0 to 730\n",
            "Data columns (total 16 columns):\n",
            " #   Column      Non-Null Count  Dtype   \n",
            "---  ------      --------------  -----   \n",
            " 0   instant     731 non-null    int64   \n",
            " 1   dteday      731 non-null    object  \n",
            " 2   season      731 non-null    category\n",
            " 3   yr          731 non-null    category\n",
            " 4   mnth        731 non-null    category\n",
            " 5   holiday     731 non-null    category\n",
            " 6   weekday     731 non-null    category\n",
            " 7   workingday  731 non-null    category\n",
            " 8   weathersit  731 non-null    category\n",
            " 9   temp        731 non-null    float64 \n",
            " 10  atemp       731 non-null    float64 \n",
            " 11  hum         731 non-null    float64 \n",
            " 12  windspeed   731 non-null    float64 \n",
            " 13  casual      731 non-null    int64   \n",
            " 14  registered  731 non-null    int64   \n",
            " 15  cnt         731 non-null    int64   \n",
            "dtypes: category(7), float64(4), int64(4), object(1)\n",
            "memory usage: 58.0+ KB\n"
          ]
        }
      ],
      "source": [
        "# Mengubah tipe data\n",
        "day_df = pd.DataFrame(day)\n",
        "\n",
        "day_df['season'] = day_df['season'].replace({1: 'Springer', 2: 'Summer', 3:\"Fall\", 4:\"Winter\"})\n",
        "day_df['yr'] = day_df['yr'].replace({0: '2011', 1: '2012'})\n",
        "day_df['mnth']= day_df['mnth'].astype('category')\n",
        "day_df['holiday'] = day_df['holiday'].replace({0: '-', 1: 'Holiday'}).astype('category')\n",
        "day_df['workingday'] = day_df['workingday'].replace({0: 'Weekend', 1: 'Weekday'}).astype('category')\n",
        "day_df['workingday']= day_df['workingday'].astype('category')\n",
        "day_df['weekday'] = day_df['weekday'].replace({0: 'Monday', 1: 'Tuesday', 2:'Wednesday', 3:'Thursday', 4:'Friday', 5:'Saturday', 6:\"Sunday\"})\n",
        "day_df['weathersit'] = day_df['weathersit'].replace({1: 'Clear', 2: 'Mist', 3:'Light snow', 4:'Heavy rain'})\n",
        "day_df['season']= day_df['season'].astype('category')\n",
        "day_df['yr']= day_df['yr'].astype('category')\n",
        "day_df['weekday']= day_df['weekday'].astype('category')\n",
        "day_df['weathersit'] = day_df['weathersit'].astype('category')\n",
        "\n",
        "day_df.info()"
      ]
    },
    {
      "cell_type": "markdown",
      "metadata": {},
      "source": [
        "Tipe data sudah sesuai."
      ]
    },
    {
      "cell_type": "code",
      "execution_count": 28,
      "metadata": {},
      "outputs": [
        {
          "data": {
            "application/vnd.microsoft.datawrangler.viewer.v0+json": {
              "columns": [
                {
                  "name": "index",
                  "rawType": "int64",
                  "type": "integer"
                },
                {
                  "name": "instant",
                  "rawType": "int64",
                  "type": "integer"
                },
                {
                  "name": "dteday",
                  "rawType": "object",
                  "type": "string"
                },
                {
                  "name": "season",
                  "rawType": "category",
                  "type": "unknown"
                },
                {
                  "name": "yr",
                  "rawType": "category",
                  "type": "unknown"
                },
                {
                  "name": "mnth",
                  "rawType": "category",
                  "type": "unknown"
                },
                {
                  "name": "holiday",
                  "rawType": "category",
                  "type": "unknown"
                },
                {
                  "name": "weekday",
                  "rawType": "category",
                  "type": "unknown"
                },
                {
                  "name": "workingday",
                  "rawType": "category",
                  "type": "unknown"
                },
                {
                  "name": "weathersit",
                  "rawType": "category",
                  "type": "unknown"
                },
                {
                  "name": "temp",
                  "rawType": "float64",
                  "type": "float"
                },
                {
                  "name": "atemp",
                  "rawType": "float64",
                  "type": "float"
                },
                {
                  "name": "hum",
                  "rawType": "float64",
                  "type": "float"
                },
                {
                  "name": "windspeed",
                  "rawType": "float64",
                  "type": "float"
                },
                {
                  "name": "casual",
                  "rawType": "int64",
                  "type": "integer"
                },
                {
                  "name": "registered",
                  "rawType": "int64",
                  "type": "integer"
                },
                {
                  "name": "cnt",
                  "rawType": "int64",
                  "type": "integer"
                }
              ],
              "conversionMethod": "pd.DataFrame",
              "ref": "98172cf7-a24d-47d0-89c8-9a907ede9e5d",
              "rows": [
                [
                  "0",
                  "1",
                  "01/01/2011",
                  "Springer",
                  "2011",
                  "1",
                  "-",
                  "Sunday",
                  "Weekend",
                  "Mist",
                  "0.344167",
                  "0.363625",
                  "0.805833",
                  "0.160446",
                  "331",
                  "654",
                  "985"
                ],
                [
                  "1",
                  "2",
                  "02/01/2011",
                  "Springer",
                  "2011",
                  "1",
                  "-",
                  "Monday",
                  "Weekend",
                  "Mist",
                  "0.363478",
                  "0.353739",
                  "0.696087",
                  "0.248539",
                  "131",
                  "670",
                  "801"
                ],
                [
                  "2",
                  "3",
                  "03/01/2011",
                  "Springer",
                  "2011",
                  "1",
                  "-",
                  "Tuesday",
                  "Weekday",
                  "Clear",
                  "0.196364",
                  "0.189405",
                  "0.437273",
                  "0.248309",
                  "120",
                  "1229",
                  "1349"
                ],
                [
                  "3",
                  "4",
                  "04/01/2011",
                  "Springer",
                  "2011",
                  "1",
                  "-",
                  "Wednesday",
                  "Weekday",
                  "Clear",
                  "0.2",
                  "0.212122",
                  "0.590435",
                  "0.160296",
                  "108",
                  "1454",
                  "1562"
                ],
                [
                  "4",
                  "5",
                  "05/01/2011",
                  "Springer",
                  "2011",
                  "1",
                  "-",
                  "Thursday",
                  "Weekday",
                  "Clear",
                  "0.226957",
                  "0.22927",
                  "0.436957",
                  "0.1869",
                  "82",
                  "1518",
                  "1600"
                ]
              ],
              "shape": {
                "columns": 16,
                "rows": 5
              }
            },
            "text/html": [
              "<div>\n",
              "<style scoped>\n",
              "    .dataframe tbody tr th:only-of-type {\n",
              "        vertical-align: middle;\n",
              "    }\n",
              "\n",
              "    .dataframe tbody tr th {\n",
              "        vertical-align: top;\n",
              "    }\n",
              "\n",
              "    .dataframe thead th {\n",
              "        text-align: right;\n",
              "    }\n",
              "</style>\n",
              "<table border=\"1\" class=\"dataframe\">\n",
              "  <thead>\n",
              "    <tr style=\"text-align: right;\">\n",
              "      <th></th>\n",
              "      <th>instant</th>\n",
              "      <th>dteday</th>\n",
              "      <th>season</th>\n",
              "      <th>yr</th>\n",
              "      <th>mnth</th>\n",
              "      <th>holiday</th>\n",
              "      <th>weekday</th>\n",
              "      <th>workingday</th>\n",
              "      <th>weathersit</th>\n",
              "      <th>temp</th>\n",
              "      <th>atemp</th>\n",
              "      <th>hum</th>\n",
              "      <th>windspeed</th>\n",
              "      <th>casual</th>\n",
              "      <th>registered</th>\n",
              "      <th>cnt</th>\n",
              "    </tr>\n",
              "  </thead>\n",
              "  <tbody>\n",
              "    <tr>\n",
              "      <th>0</th>\n",
              "      <td>1</td>\n",
              "      <td>01/01/2011</td>\n",
              "      <td>Springer</td>\n",
              "      <td>2011</td>\n",
              "      <td>1</td>\n",
              "      <td>-</td>\n",
              "      <td>Sunday</td>\n",
              "      <td>Weekend</td>\n",
              "      <td>Mist</td>\n",
              "      <td>0.344167</td>\n",
              "      <td>0.363625</td>\n",
              "      <td>0.805833</td>\n",
              "      <td>0.160446</td>\n",
              "      <td>331</td>\n",
              "      <td>654</td>\n",
              "      <td>985</td>\n",
              "    </tr>\n",
              "    <tr>\n",
              "      <th>1</th>\n",
              "      <td>2</td>\n",
              "      <td>02/01/2011</td>\n",
              "      <td>Springer</td>\n",
              "      <td>2011</td>\n",
              "      <td>1</td>\n",
              "      <td>-</td>\n",
              "      <td>Monday</td>\n",
              "      <td>Weekend</td>\n",
              "      <td>Mist</td>\n",
              "      <td>0.363478</td>\n",
              "      <td>0.353739</td>\n",
              "      <td>0.696087</td>\n",
              "      <td>0.248539</td>\n",
              "      <td>131</td>\n",
              "      <td>670</td>\n",
              "      <td>801</td>\n",
              "    </tr>\n",
              "    <tr>\n",
              "      <th>2</th>\n",
              "      <td>3</td>\n",
              "      <td>03/01/2011</td>\n",
              "      <td>Springer</td>\n",
              "      <td>2011</td>\n",
              "      <td>1</td>\n",
              "      <td>-</td>\n",
              "      <td>Tuesday</td>\n",
              "      <td>Weekday</td>\n",
              "      <td>Clear</td>\n",
              "      <td>0.196364</td>\n",
              "      <td>0.189405</td>\n",
              "      <td>0.437273</td>\n",
              "      <td>0.248309</td>\n",
              "      <td>120</td>\n",
              "      <td>1229</td>\n",
              "      <td>1349</td>\n",
              "    </tr>\n",
              "    <tr>\n",
              "      <th>3</th>\n",
              "      <td>4</td>\n",
              "      <td>04/01/2011</td>\n",
              "      <td>Springer</td>\n",
              "      <td>2011</td>\n",
              "      <td>1</td>\n",
              "      <td>-</td>\n",
              "      <td>Wednesday</td>\n",
              "      <td>Weekday</td>\n",
              "      <td>Clear</td>\n",
              "      <td>0.200000</td>\n",
              "      <td>0.212122</td>\n",
              "      <td>0.590435</td>\n",
              "      <td>0.160296</td>\n",
              "      <td>108</td>\n",
              "      <td>1454</td>\n",
              "      <td>1562</td>\n",
              "    </tr>\n",
              "    <tr>\n",
              "      <th>4</th>\n",
              "      <td>5</td>\n",
              "      <td>05/01/2011</td>\n",
              "      <td>Springer</td>\n",
              "      <td>2011</td>\n",
              "      <td>1</td>\n",
              "      <td>-</td>\n",
              "      <td>Thursday</td>\n",
              "      <td>Weekday</td>\n",
              "      <td>Clear</td>\n",
              "      <td>0.226957</td>\n",
              "      <td>0.229270</td>\n",
              "      <td>0.436957</td>\n",
              "      <td>0.186900</td>\n",
              "      <td>82</td>\n",
              "      <td>1518</td>\n",
              "      <td>1600</td>\n",
              "    </tr>\n",
              "  </tbody>\n",
              "</table>\n",
              "</div>"
            ],
            "text/plain": [
              "   instant      dteday    season    yr mnth holiday    weekday workingday  \\\n",
              "0        1  01/01/2011  Springer  2011    1       -     Sunday    Weekend   \n",
              "1        2  02/01/2011  Springer  2011    1       -     Monday    Weekend   \n",
              "2        3  03/01/2011  Springer  2011    1       -    Tuesday    Weekday   \n",
              "3        4  04/01/2011  Springer  2011    1       -  Wednesday    Weekday   \n",
              "4        5  05/01/2011  Springer  2011    1       -   Thursday    Weekday   \n",
              "\n",
              "  weathersit      temp     atemp       hum  windspeed  casual  registered  \\\n",
              "0       Mist  0.344167  0.363625  0.805833   0.160446     331         654   \n",
              "1       Mist  0.363478  0.353739  0.696087   0.248539     131         670   \n",
              "2      Clear  0.196364  0.189405  0.437273   0.248309     120        1229   \n",
              "3      Clear  0.200000  0.212122  0.590435   0.160296     108        1454   \n",
              "4      Clear  0.226957  0.229270  0.436957   0.186900      82        1518   \n",
              "\n",
              "    cnt  \n",
              "0   985  \n",
              "1   801  \n",
              "2  1349  \n",
              "3  1562  \n",
              "4  1600  "
            ]
          },
          "execution_count": 28,
          "metadata": {},
          "output_type": "execute_result"
        }
      ],
      "source": [
        "day_df.head()"
      ]
    },
    {
      "cell_type": "markdown",
      "metadata": {
        "id": "gp-Y6wU38DC1"
      },
      "source": [
        "## Exploratory Data Analysis (EDA)"
      ]
    },
    {
      "cell_type": "code",
      "execution_count": 29,
      "metadata": {
        "id": "e9CQCZjk8DC2"
      },
      "outputs": [
        {
          "name": "stdout",
          "output_type": "stream",
          "text": [
            "Total Sepeda yang Disewa = 3292679\n",
            "Total Pengguna Terdaftar = 2672662\n",
            "Total Pengguna Biasa = 620017\n"
          ]
        }
      ],
      "source": [
        "# Jumlah Total\n",
        "def total_count(day_df, column) :\n",
        "    return day_df[column].sum()\n",
        "\n",
        "print(\"Total Sepeda yang Disewa =\", total_count(day_df, 'cnt'))\n",
        "print(\"Total Pengguna Terdaftar =\", total_count(day_df, 'registered'))\n",
        "print(\"Total Pengguna Biasa =\", total_count(day_df, 'casual'))"
      ]
    },
    {
      "cell_type": "code",
      "execution_count": 30,
      "metadata": {},
      "outputs": [
        {
          "name": "stderr",
          "output_type": "stream",
          "text": [
            "C:\\Users\\Asus\\AppData\\Local\\Temp\\ipykernel_19552\\91832296.py:2: FutureWarning: The default of observed=False is deprecated and will be changed to True in a future version of pandas. Pass observed=False to retain current behavior or observed=True to adopt the future default and silence this warning.\n",
            "  trend_bike = day_df.groupby(by = 'yr').agg({\n"
          ]
        },
        {
          "data": {
            "application/vnd.microsoft.datawrangler.viewer.v0+json": {
              "columns": [
                {
                  "name": "yr",
                  "rawType": "category",
                  "type": "unknown"
                },
                {
                  "name": "cnt",
                  "rawType": "float64",
                  "type": "float"
                }
              ],
              "conversionMethod": "pd.DataFrame",
              "ref": "d254949e-58fe-4a39-95f0-9d08b19c1aae",
              "rows": [
                [
                  "2011",
                  "3405.7616438356163"
                ],
                [
                  "2012",
                  "5599.934426229508"
                ]
              ],
              "shape": {
                "columns": 1,
                "rows": 2
              }
            },
            "text/html": [
              "<div>\n",
              "<style scoped>\n",
              "    .dataframe tbody tr th:only-of-type {\n",
              "        vertical-align: middle;\n",
              "    }\n",
              "\n",
              "    .dataframe tbody tr th {\n",
              "        vertical-align: top;\n",
              "    }\n",
              "\n",
              "    .dataframe thead th {\n",
              "        text-align: right;\n",
              "    }\n",
              "</style>\n",
              "<table border=\"1\" class=\"dataframe\">\n",
              "  <thead>\n",
              "    <tr style=\"text-align: right;\">\n",
              "      <th></th>\n",
              "      <th>cnt</th>\n",
              "    </tr>\n",
              "    <tr>\n",
              "      <th>yr</th>\n",
              "      <th></th>\n",
              "    </tr>\n",
              "  </thead>\n",
              "  <tbody>\n",
              "    <tr>\n",
              "      <th>2011</th>\n",
              "      <td>3405.761644</td>\n",
              "    </tr>\n",
              "    <tr>\n",
              "      <th>2012</th>\n",
              "      <td>5599.934426</td>\n",
              "    </tr>\n",
              "  </tbody>\n",
              "</table>\n",
              "</div>"
            ],
            "text/plain": [
              "              cnt\n",
              "yr               \n",
              "2011  3405.761644\n",
              "2012  5599.934426"
            ]
          },
          "execution_count": 30,
          "metadata": {},
          "output_type": "execute_result"
        }
      ],
      "source": [
        "# Tren penyewa sepeda\n",
        "trend_bike = day_df.groupby(by = 'yr').agg({\n",
        "    'cnt':'mean'\n",
        "})\n",
        "trend_bike.head()"
      ]
    },
    {
      "cell_type": "code",
      "execution_count": 31,
      "metadata": {},
      "outputs": [
        {
          "data": {
            "application/vnd.microsoft.datawrangler.viewer.v0+json": {
              "columns": [
                {
                  "name": "season",
                  "rawType": "category",
                  "type": "unknown"
                },
                {
                  "name": "('casual', 'mean')",
                  "rawType": "float64",
                  "type": "float"
                },
                {
                  "name": "('registered', 'mean')",
                  "rawType": "float64",
                  "type": "float"
                },
                {
                  "name": "('cnt', 'max')",
                  "rawType": "int64",
                  "type": "integer"
                },
                {
                  "name": "('cnt', 'min')",
                  "rawType": "int64",
                  "type": "integer"
                },
                {
                  "name": "('cnt', 'mean')",
                  "rawType": "float64",
                  "type": "float"
                }
              ],
              "conversionMethod": "pd.DataFrame",
              "ref": "fae32e28-5b19-43ab-86d6-f241dc13e4bf",
              "rows": [
                [
                  "Fall",
                  "1202.6117021276596",
                  "4441.691489361702",
                  "8714",
                  "1115",
                  "5644.303191489362"
                ],
                [
                  "Springer",
                  "334.9281767955801",
                  "2269.204419889503",
                  "7836",
                  "431",
                  "2604.1325966850827"
                ],
                [
                  "Summer",
                  "1106.0978260869565",
                  "3886.233695652174",
                  "8362",
                  "795",
                  "4992.33152173913"
                ],
                [
                  "Winter",
                  "729.1123595505618",
                  "3999.050561797753",
                  "8555",
                  "22",
                  "4728.162921348315"
                ]
              ],
              "shape": {
                "columns": 5,
                "rows": 4
              }
            },
            "text/html": [
              "<div>\n",
              "<style scoped>\n",
              "    .dataframe tbody tr th:only-of-type {\n",
              "        vertical-align: middle;\n",
              "    }\n",
              "\n",
              "    .dataframe tbody tr th {\n",
              "        vertical-align: top;\n",
              "    }\n",
              "\n",
              "    .dataframe thead tr th {\n",
              "        text-align: left;\n",
              "    }\n",
              "\n",
              "    .dataframe thead tr:last-of-type th {\n",
              "        text-align: right;\n",
              "    }\n",
              "</style>\n",
              "<table border=\"1\" class=\"dataframe\">\n",
              "  <thead>\n",
              "    <tr>\n",
              "      <th></th>\n",
              "      <th>casual</th>\n",
              "      <th>registered</th>\n",
              "      <th colspan=\"3\" halign=\"left\">cnt</th>\n",
              "    </tr>\n",
              "    <tr>\n",
              "      <th></th>\n",
              "      <th>mean</th>\n",
              "      <th>mean</th>\n",
              "      <th>max</th>\n",
              "      <th>min</th>\n",
              "      <th>mean</th>\n",
              "    </tr>\n",
              "    <tr>\n",
              "      <th>season</th>\n",
              "      <th></th>\n",
              "      <th></th>\n",
              "      <th></th>\n",
              "      <th></th>\n",
              "      <th></th>\n",
              "    </tr>\n",
              "  </thead>\n",
              "  <tbody>\n",
              "    <tr>\n",
              "      <th>Fall</th>\n",
              "      <td>1202.611702</td>\n",
              "      <td>4441.691489</td>\n",
              "      <td>8714</td>\n",
              "      <td>1115</td>\n",
              "      <td>5644.303191</td>\n",
              "    </tr>\n",
              "    <tr>\n",
              "      <th>Springer</th>\n",
              "      <td>334.928177</td>\n",
              "      <td>2269.204420</td>\n",
              "      <td>7836</td>\n",
              "      <td>431</td>\n",
              "      <td>2604.132597</td>\n",
              "    </tr>\n",
              "    <tr>\n",
              "      <th>Summer</th>\n",
              "      <td>1106.097826</td>\n",
              "      <td>3886.233696</td>\n",
              "      <td>8362</td>\n",
              "      <td>795</td>\n",
              "      <td>4992.331522</td>\n",
              "    </tr>\n",
              "    <tr>\n",
              "      <th>Winter</th>\n",
              "      <td>729.112360</td>\n",
              "      <td>3999.050562</td>\n",
              "      <td>8555</td>\n",
              "      <td>22</td>\n",
              "      <td>4728.162921</td>\n",
              "    </tr>\n",
              "  </tbody>\n",
              "</table>\n",
              "</div>"
            ],
            "text/plain": [
              "               casual   registered   cnt                   \n",
              "                 mean         mean   max   min         mean\n",
              "season                                                     \n",
              "Fall      1202.611702  4441.691489  8714  1115  5644.303191\n",
              "Springer   334.928177  2269.204420  7836   431  2604.132597\n",
              "Summer    1106.097826  3886.233696  8362   795  4992.331522\n",
              "Winter     729.112360  3999.050562  8555    22  4728.162921"
            ]
          },
          "execution_count": 31,
          "metadata": {},
          "output_type": "execute_result"
        }
      ],
      "source": [
        "# Pengelompokan penyewa sepeda berdasarkan musim\n",
        "day_df.groupby('season', observed=False).agg({\n",
        "    'casual' : 'mean',\n",
        "    'registered' : 'mean',\n",
        "    'cnt' : ['max', 'min', 'mean']\n",
        "})"
      ]
    },
    {
      "cell_type": "markdown",
      "metadata": {},
      "source": [
        "Dapat dilihat, bahwa penyewaan sepeda tertinggi terjadi selama musim dingin. Sedangkan penyewaan sepeda terendah terjadi pada musim dingin."
      ]
    },
    {
      "cell_type": "code",
      "execution_count": 32,
      "metadata": {},
      "outputs": [
        {
          "data": {
            "application/vnd.microsoft.datawrangler.viewer.v0+json": {
              "columns": [
                {
                  "name": "weathersit",
                  "rawType": "category",
                  "type": "unknown"
                },
                {
                  "name": "('cnt', 'max')",
                  "rawType": "int64",
                  "type": "integer"
                },
                {
                  "name": "('cnt', 'min')",
                  "rawType": "int64",
                  "type": "integer"
                },
                {
                  "name": "('cnt', 'mean')",
                  "rawType": "float64",
                  "type": "float"
                }
              ],
              "conversionMethod": "pd.DataFrame",
              "ref": "1aa468b6-4ff4-40a8-8167-dcebc23ca513",
              "rows": [
                [
                  "Clear",
                  "8714",
                  "431",
                  "4876.7861771058315"
                ],
                [
                  "Light snow",
                  "4639",
                  "22",
                  "1803.2857142857142"
                ],
                [
                  "Mist",
                  "8362",
                  "605",
                  "4035.862348178138"
                ]
              ],
              "shape": {
                "columns": 3,
                "rows": 3
              }
            },
            "text/html": [
              "<div>\n",
              "<style scoped>\n",
              "    .dataframe tbody tr th:only-of-type {\n",
              "        vertical-align: middle;\n",
              "    }\n",
              "\n",
              "    .dataframe tbody tr th {\n",
              "        vertical-align: top;\n",
              "    }\n",
              "\n",
              "    .dataframe thead tr th {\n",
              "        text-align: left;\n",
              "    }\n",
              "\n",
              "    .dataframe thead tr:last-of-type th {\n",
              "        text-align: right;\n",
              "    }\n",
              "</style>\n",
              "<table border=\"1\" class=\"dataframe\">\n",
              "  <thead>\n",
              "    <tr>\n",
              "      <th></th>\n",
              "      <th colspan=\"3\" halign=\"left\">cnt</th>\n",
              "    </tr>\n",
              "    <tr>\n",
              "      <th></th>\n",
              "      <th>max</th>\n",
              "      <th>min</th>\n",
              "      <th>mean</th>\n",
              "    </tr>\n",
              "    <tr>\n",
              "      <th>weathersit</th>\n",
              "      <th></th>\n",
              "      <th></th>\n",
              "      <th></th>\n",
              "    </tr>\n",
              "  </thead>\n",
              "  <tbody>\n",
              "    <tr>\n",
              "      <th>Clear</th>\n",
              "      <td>8714</td>\n",
              "      <td>431</td>\n",
              "      <td>4876.786177</td>\n",
              "    </tr>\n",
              "    <tr>\n",
              "      <th>Light snow</th>\n",
              "      <td>4639</td>\n",
              "      <td>22</td>\n",
              "      <td>1803.285714</td>\n",
              "    </tr>\n",
              "    <tr>\n",
              "      <th>Mist</th>\n",
              "      <td>8362</td>\n",
              "      <td>605</td>\n",
              "      <td>4035.862348</td>\n",
              "    </tr>\n",
              "  </tbody>\n",
              "</table>\n",
              "</div>"
            ],
            "text/plain": [
              "             cnt                  \n",
              "             max  min         mean\n",
              "weathersit                        \n",
              "Clear       8714  431  4876.786177\n",
              "Light snow  4639   22  1803.285714\n",
              "Mist        8362  605  4035.862348"
            ]
          },
          "execution_count": 32,
          "metadata": {},
          "output_type": "execute_result"
        }
      ],
      "source": [
        "# Pengelompokan penyewa sepeda berdasarkan cuaca\n",
        "day_df.groupby('weathersit', observed=False).agg({\n",
        "    'cnt' : ['max', 'min', 'mean']\n",
        "})"
      ]
    },
    {
      "cell_type": "markdown",
      "metadata": {},
      "source": [
        "Berdasarkan hasil, dapat dilihat bahwa penyewaan sepeda terbanyak dilakukan saat cuaca cerah."
      ]
    },
    {
      "cell_type": "code",
      "execution_count": 33,
      "metadata": {},
      "outputs": [
        {
          "data": {
            "application/vnd.microsoft.datawrangler.viewer.v0+json": {
              "columns": [
                {
                  "name": "weekday",
                  "rawType": "category",
                  "type": "unknown"
                },
                {
                  "name": "('cnt', 'max')",
                  "rawType": "int64",
                  "type": "integer"
                },
                {
                  "name": "('cnt', 'min')",
                  "rawType": "int64",
                  "type": "integer"
                },
                {
                  "name": "('cnt', 'mean')",
                  "rawType": "float64",
                  "type": "float"
                }
              ],
              "conversionMethod": "pd.DataFrame",
              "ref": "a49f2bbe-10a8-4e21-9e12-f35496850ab6",
              "rows": [
                [
                  "Friday",
                  "7804",
                  "431",
                  "4667.259615384615"
                ],
                [
                  "Monday",
                  "8227",
                  "605",
                  "4228.828571428571"
                ],
                [
                  "Saturday",
                  "8362",
                  "1167",
                  "4690.288461538462"
                ],
                [
                  "Sunday",
                  "8714",
                  "627",
                  "4550.542857142857"
                ],
                [
                  "Thursday",
                  "8173",
                  "441",
                  "4548.538461538462"
                ],
                [
                  "Tuesday",
                  "7525",
                  "22",
                  "4338.1238095238095"
                ],
                [
                  "Wednesday",
                  "7767",
                  "683",
                  "4510.663461538462"
                ]
              ],
              "shape": {
                "columns": 3,
                "rows": 7
              }
            },
            "text/html": [
              "<div>\n",
              "<style scoped>\n",
              "    .dataframe tbody tr th:only-of-type {\n",
              "        vertical-align: middle;\n",
              "    }\n",
              "\n",
              "    .dataframe tbody tr th {\n",
              "        vertical-align: top;\n",
              "    }\n",
              "\n",
              "    .dataframe thead tr th {\n",
              "        text-align: left;\n",
              "    }\n",
              "\n",
              "    .dataframe thead tr:last-of-type th {\n",
              "        text-align: right;\n",
              "    }\n",
              "</style>\n",
              "<table border=\"1\" class=\"dataframe\">\n",
              "  <thead>\n",
              "    <tr>\n",
              "      <th></th>\n",
              "      <th colspan=\"3\" halign=\"left\">cnt</th>\n",
              "    </tr>\n",
              "    <tr>\n",
              "      <th></th>\n",
              "      <th>max</th>\n",
              "      <th>min</th>\n",
              "      <th>mean</th>\n",
              "    </tr>\n",
              "    <tr>\n",
              "      <th>weekday</th>\n",
              "      <th></th>\n",
              "      <th></th>\n",
              "      <th></th>\n",
              "    </tr>\n",
              "  </thead>\n",
              "  <tbody>\n",
              "    <tr>\n",
              "      <th>Friday</th>\n",
              "      <td>7804</td>\n",
              "      <td>431</td>\n",
              "      <td>4667.259615</td>\n",
              "    </tr>\n",
              "    <tr>\n",
              "      <th>Monday</th>\n",
              "      <td>8227</td>\n",
              "      <td>605</td>\n",
              "      <td>4228.828571</td>\n",
              "    </tr>\n",
              "    <tr>\n",
              "      <th>Saturday</th>\n",
              "      <td>8362</td>\n",
              "      <td>1167</td>\n",
              "      <td>4690.288462</td>\n",
              "    </tr>\n",
              "    <tr>\n",
              "      <th>Sunday</th>\n",
              "      <td>8714</td>\n",
              "      <td>627</td>\n",
              "      <td>4550.542857</td>\n",
              "    </tr>\n",
              "    <tr>\n",
              "      <th>Thursday</th>\n",
              "      <td>8173</td>\n",
              "      <td>441</td>\n",
              "      <td>4548.538462</td>\n",
              "    </tr>\n",
              "    <tr>\n",
              "      <th>Tuesday</th>\n",
              "      <td>7525</td>\n",
              "      <td>22</td>\n",
              "      <td>4338.123810</td>\n",
              "    </tr>\n",
              "    <tr>\n",
              "      <th>Wednesday</th>\n",
              "      <td>7767</td>\n",
              "      <td>683</td>\n",
              "      <td>4510.663462</td>\n",
              "    </tr>\n",
              "  </tbody>\n",
              "</table>\n",
              "</div>"
            ],
            "text/plain": [
              "            cnt                   \n",
              "            max   min         mean\n",
              "weekday                           \n",
              "Friday     7804   431  4667.259615\n",
              "Monday     8227   605  4228.828571\n",
              "Saturday   8362  1167  4690.288462\n",
              "Sunday     8714   627  4550.542857\n",
              "Thursday   8173   441  4548.538462\n",
              "Tuesday    7525    22  4338.123810\n",
              "Wednesday  7767   683  4510.663462"
            ]
          },
          "execution_count": 33,
          "metadata": {},
          "output_type": "execute_result"
        }
      ],
      "source": [
        "# Perbandingan Sewa Sepeda Harian\n",
        "day_df.groupby(by = 'weekday', observed=False).agg({\n",
        "    'cnt' : ['max', 'min', 'mean']\n",
        "})"
      ]
    },
    {
      "cell_type": "markdown",
      "metadata": {},
      "source": [
        "Berdasarkan hasil, dapat dilihat bahwa penyewaan sepeda terjadi peningkatan secara konstan antara hari Senin dan Jumat. Dan penyewaan sepeda pada Sabtu dan Minggu mengalami penurunan. Hal ini menandakan bahwa masyarakat lebih sering menyewa sepeda pada weekday/hari kerja dibandingkan pada weekend/hari libur."
      ]
    },
    {
      "cell_type": "markdown",
      "metadata": {
        "id": "zsyZjqak8DC2"
      },
      "source": [
        "## Visualization & Explanatory Analysis"
      ]
    },
    {
      "cell_type": "markdown",
      "metadata": {
        "id": "HZxOiQ6n8DC2"
      },
      "source": [
        "### Pertanyaan 1: Pada musim apakah rata-rata jumlah penyewaan sepeda tertinggi?"
      ]
    },
    {
      "cell_type": "code",
      "execution_count": 34,
      "metadata": {
        "id": "1swJUdAD8DC2"
      },
      "outputs": [
        {
          "data": {
            "image/png": "[encoded data removed]",
            "text/plain": [
              "<Figure size 640x480 with 1 Axes>"
            ]
          },
          "metadata": {},
          "output_type": "display_data"
        }
      ],
      "source": [
        "day_season = day_df.groupby('season', observed = False)['cnt'].mean()\n",
        "season_names = ['Spring', 'Summer', 'Fall', 'Winter']\n",
        "\n",
        "# Membuat visualisasi\n",
        "sn.set_palette(\"pastel\")\n",
        "plt.bar(season_names, day_season, color=sn.color_palette())\n",
        "\n",
        "# Memberikan label sumbu dan judul grafik\n",
        "plt.xlabel('Musim')\n",
        "plt.ylabel('Rata-rata Jumlah Sewa Sepeda')\n",
        "plt.title('Rata-Rata Jumlah Sewa Sepeda Berdasarkan Musim')\n",
        "\n",
        "# Menampilkan grafik\n",
        "plt.show()"
      ]
    },
    {
      "cell_type": "markdown",
      "metadata": {},
      "source": [
        "Dapat dilihat pada hasil di atas, data menunjukkan bahwa musim berdampak signifikan terhadap penyewaan sepeda. Musim panas merupakan musim dengan penyewaan sepeda tertinggi, sedangkan musim dingin merupakan musim dengan penyawaan sepeda terendah."
      ]
    },
    {
      "cell_type": "markdown",
      "metadata": {
        "id": "DgHI7CiU8DC2"
      },
      "source": [
        "### Pertanyaan 2: Bagaimana rata-rata jumlah sewa sepeda di hari libur dan hari kerja?"
      ]
    },
    {
      "cell_type": "code",
      "execution_count": 35,
      "metadata": {
        "id": "Go0lCsvO8DC2"
      },
      "outputs": [
        {
          "data": {
            "image/png": "[encoded data removed]",
            "text/plain": [
              "<Figure size 800x500 with 1 Axes>"
            ]
          },
          "metadata": {},
          "output_type": "display_data"
        }
      ],
      "source": [
        "work_data = day_df.groupby('workingday', observed=False)['cnt'].mean().reset_index()\n",
        "palette = 'pastel'\n",
        "\n",
        "plt.figure(figsize=(8, 5))\n",
        "\n",
        "sn.barplot(x='workingday', y='cnt', data=work_data, hue='workingday', palette=palette, legend=False)\n",
        "\n",
        "# Menambahkan judul dan label sumbu\n",
        "plt.title('Perbandingan Rata-rata Jumlah Sewa Sepeda pada Hari Kerja dan Hari Libur')\n",
        "plt.xlabel('Hari')\n",
        "plt.ylabel('Rata-rata Jumlah Sewa Sepeda')\n",
        "\n",
        "# Menampilkan grafik\n",
        "plt.show()"
      ]
    },
    {
      "cell_type": "markdown",
      "metadata": {},
      "source": [
        "Grafik menunjukkan bahwa jumlah sewa sepeda pada weekday/hari kerja sedikit lebih banyak dibandingkan dengan weekend/hari libur."
      ]
    },
    {
      "cell_type": "markdown",
      "metadata": {},
      "source": [
        "### Pertanyaan 3: Bagaimana pola jumlah sewa sepeda perbulan?"
      ]
    },
    {
      "cell_type": "code",
      "execution_count": 36,
      "metadata": {},
      "outputs": [
        {
          "data": {
            "image/png": "[encoded data removed]",
            "text/plain": [
              "<Figure size 1000x500 with 1 Axes>"
            ]
          },
          "metadata": {},
          "output_type": "display_data"
        }
      ],
      "source": [
        "month_data = day_df.groupby('mnth', observed=False)['cnt'].mean().reset_index().sort_values(\"mnth\")\n",
        "\n",
        "plt.figure(figsize=(10, 5))\n",
        "sn.lineplot(x='mnth', y='cnt', data=month_data, marker='o', color='#FF5733', linewidth=2)\n",
        "\n",
        "plt.title('Tren Rata-rata Jumlah Sewa Sepeda Berdasarkan Bulan', fontsize=14)\n",
        "plt.xlabel('Bulan', fontsize=12)\n",
        "plt.ylabel('Rata-rata Jumlah Sewa Sepeda', fontsize=12)\n",
        "\n",
        "plt.xticks(rotation = 45)\n",
        "\n",
        "plt.grid(True, linestyle='--', alpha=0.6)\n",
        "\n",
        "plt.show()"
      ]
    },
    {
      "cell_type": "markdown",
      "metadata": {},
      "source": [
        "Berdasarkan grafik, jumlah penyewaan sepeda mengalami peningkatan dari bulan 1 (Januari) hingga mencapai puncaknya pada bulan 6 (Juni) hingga 8 (Agustus). Pada bulan 9 (September), jumlah sewa mulai menurun secara bertahap hingga akhir tahun, dengan angka terendah terlihat pada bulan 12 (Desember). Hal ini dapat disimpulkan bahwa faktor musim sangat berpengaruh pada jumlah penyewaan sepeda, di mana puncaknya terlihat pada pertengahan tahun, sedangkan awal dan akhir tahun memiliki angka penyewaan terendah."
      ]
    },
    {
      "cell_type": "markdown",
      "metadata": {
        "id": "_WeHlCeX8DC2"
      },
      "source": [
        "## Conclusion"
      ]
    },
    {
      "cell_type": "markdown",
      "metadata": {
        "id": "ZTcyR48Y8DC2"
      },
      "source": [
        "- Conclution pertanyaan 1 : Berdasarkan grafik di atas, dapat disimpulkan bahwa faktor musim memiliki pengaruh yang signifikan terhadap pola penyewaan sepeda. Dimana musim panas menjadi periode dengan jumlah penyewaan tertinggi dan musim dingin menunjukkan jumlah penyewaan terendah. Hal ini dapat terjadi dikarenakan kondisi lingkungan yang mendukung aktivitas luar ruangan.\n",
        "- Conclution pertanyaan 2 : Dari hasil analisis, dapat disimpulkan bahwa jumlah penyewaan sepeda cenderung lebih tinggi pada hari kerja dibandingkan pada hari libur. Hal ini kemungkinan disebabkan oleh penggunaan sepeda sebagai transportasi sehari-hari.\n",
        "- Conclusion pertanyaan 3 : Pada hasil analisis, dapat disimpulkan bahwa pola penyewaan sepeda sangat dipengaruhi oleh perubahan musim dengan jumlah penyewaan tertinggi terjadi pada pertengahan tahun, khususnya pada bulan Juni hingga Agustus. Sebaliknya, jumlah penyewaan cenderung lebih rendah pada awal dan akhir tahun, terutama pada bulan Desember. Hal ini kemungkinan disebabkan oleh kondisi cuaca yang lebih mendukung aktivitas luar ruangan pada pertengahan tahun."
      ]
    }
  ],
  "metadata": {
    "colab": {
      "provenance": []
    },
    "kernelspec": {
      "display_name": "Python 3",
      "language": "python",
      "name": "python3"
    },
    "language_info": {
      "codemirror_mode": {
        "name": "ipython",
        "version": 3
      },
      "file_extension": ".py",
      "mimetype": "text/x-python",
      "name": "python",
      "nbconvert_exporter": "python",
      "pygments_lexer": "ipython3",
      "version": "3.13.2"
    },
    "orig_nbformat": 4,
    "vscode": {
      "interpreter": {
        "hash": "972b3bf27e332e87b5379f2791f6ef9dfc79c71018c370b0d7423235e20fe4d7"
      }
    }
  },
  "nbformat": 4,
  "nbformat_minor": 0
}
