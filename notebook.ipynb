{
  "cells": [
    {
      "cell_type": "markdown",
      "metadata": {
        "id": "H9wADwK78DCz"
      },
      "source": [
        "# Proyek Analisis Data: Bike Sharing Dataset\n",
        "- **Nama:** Dewi Kunthi Siswati Suryo\n",
        "- **Email:** dewikunthi6@gmail.com\n",
        "- **ID Dicoding:** dewikunthisiswati"
      ]
    },
    {
      "cell_type": "markdown",
      "metadata": {
        "id": "eE0raob58DC0"
      },
      "source": [
        "## Menentukan Pertanyaan Bisnis"
      ]
    },
    {
      "cell_type": "markdown",
      "metadata": {
        "id": "GmQeQ5YF8DC0"
      },
      "source": [
        "- Pada musim apakah rata-rata penyewaan sepeda tertinggi?\n",
        "- Bagaimana rata-rata pola penyewaan sepeda perbulannya?\n",
        "- Bagaimana rata-rata jumlah sewa sepeda perhari?"
      ]
    },
    {
      "cell_type": "markdown",
      "metadata": {
        "id": "H-z4QGlO8DC1"
      },
      "source": [
        "## Import Semua Packages/Library yang Digunakan"
      ]
    },
    {
      "cell_type": "code",
      "execution_count": 139,
      "metadata": {
        "id": "FVYwaObI8DC1"
      },
      "outputs": [],
      "source": [
        "import numpy as np\n",
        "import pandas as pd\n",
        "import matplotlib.pyplot as plt\n",
        "import seaborn as sns\n",
        "import seaborn as sn \n",
        "import plotly.express as px\n",
        "from datetime import datetime"
      ]
    },
    {
      "cell_type": "markdown",
      "metadata": {
        "id": "h_Sh51Xy8DC1"
      },
      "source": [
        "## Data Wrangling"
      ]
    },
    {
      "cell_type": "markdown",
      "metadata": {
        "id": "sXU2GBYu8DC1"
      },
      "source": [
        "### Gathering Data"
      ]
    },
    {
      "cell_type": "code",
      "execution_count": 140,
      "metadata": {
        "id": "zjCBk1BI8DC1"
      },
      "outputs": [
        {
          "data": {
            "application/vnd.microsoft.datawrangler.viewer.v0+json": {
              "columns": [
                {
                  "name": "index",
                  "rawType": "int64",
                  "type": "integer"
                },
                {
                  "name": "instant",
                  "rawType": "int64",
                  "type": "integer"
                },
                {
                  "name": "dteday",
                  "rawType": "object",
                  "type": "string"
                },
                {
                  "name": "season",
                  "rawType": "int64",
                  "type": "integer"
                },
                {
                  "name": "yr",
                  "rawType": "int64",
                  "type": "integer"
                },
                {
                  "name": "mnth",
                  "rawType": "int64",
                  "type": "integer"
                },
                {
                  "name": "hr",
                  "rawType": "int64",
                  "type": "integer"
                },
                {
                  "name": "holiday",
                  "rawType": "int64",
                  "type": "integer"
                },
                {
                  "name": "weekday",
                  "rawType": "int64",
                  "type": "integer"
                },
                {
                  "name": "workingday",
                  "rawType": "int64",
                  "type": "integer"
                },
                {
                  "name": "weathersit",
                  "rawType": "int64",
                  "type": "integer"
                },
                {
                  "name": "temp",
                  "rawType": "float64",
                  "type": "float"
                },
                {
                  "name": "atemp",
                  "rawType": "float64",
                  "type": "float"
                },
                {
                  "name": "hum",
                  "rawType": "float64",
                  "type": "float"
                },
                {
                  "name": "windspeed",
                  "rawType": "float64",
                  "type": "float"
                },
                {
                  "name": "casual",
                  "rawType": "int64",
                  "type": "integer"
                },
                {
                  "name": "registered",
                  "rawType": "int64",
                  "type": "integer"
                },
                {
                  "name": "cnt",
                  "rawType": "int64",
                  "type": "integer"
                }
              ],
              "conversionMethod": "pd.DataFrame",
              "ref": "3103e363-6aeb-450d-a070-835c824a02f1",
              "rows": [
                [
                  "0",
                  "1",
                  "01/01/2011",
                  "1",
                  "0",
                  "1",
                  "0",
                  "0",
                  "6",
                  "0",
                  "1",
                  "0.24",
                  "0.2879",
                  "0.81",
                  "0.0",
                  "3",
                  "13",
                  "16"
                ],
                [
                  "1",
                  "2",
                  "01/01/2011",
                  "1",
                  "0",
                  "1",
                  "1",
                  "0",
                  "6",
                  "0",
                  "1",
                  "0.22",
                  "0.2727",
                  "0.8",
                  "0.0",
                  "8",
                  "32",
                  "40"
                ],
                [
                  "2",
                  "3",
                  "01/01/2011",
                  "1",
                  "0",
                  "1",
                  "2",
                  "0",
                  "6",
                  "0",
                  "1",
                  "0.22",
                  "0.2727",
                  "0.8",
                  "0.0",
                  "5",
                  "27",
                  "32"
                ],
                [
                  "3",
                  "4",
                  "01/01/2011",
                  "1",
                  "0",
                  "1",
                  "3",
                  "0",
                  "6",
                  "0",
                  "1",
                  "0.24",
                  "0.2879",
                  "0.75",
                  "0.0",
                  "3",
                  "10",
                  "13"
                ],
                [
                  "4",
                  "5",
                  "01/01/2011",
                  "1",
                  "0",
                  "1",
                  "4",
                  "0",
                  "6",
                  "0",
                  "1",
                  "0.24",
                  "0.2879",
                  "0.75",
                  "0.0",
                  "0",
                  "1",
                  "1"
                ]
              ],
              "shape": {
                "columns": 17,
                "rows": 5
              }
            },
            "text/html": [
              "<div>\n",
              "<style scoped>\n",
              "    .dataframe tbody tr th:only-of-type {\n",
              "        vertical-align: middle;\n",
              "    }\n",
              "\n",
              "    .dataframe tbody tr th {\n",
              "        vertical-align: top;\n",
              "    }\n",
              "\n",
              "    .dataframe thead th {\n",
              "        text-align: right;\n",
              "    }\n",
              "</style>\n",
              "<table border=\"1\" class=\"dataframe\">\n",
              "  <thead>\n",
              "    <tr style=\"text-align: right;\">\n",
              "      <th></th>\n",
              "      <th>instant</th>\n",
              "      <th>dteday</th>\n",
              "      <th>season</th>\n",
              "      <th>yr</th>\n",
              "      <th>mnth</th>\n",
              "      <th>hr</th>\n",
              "      <th>holiday</th>\n",
              "      <th>weekday</th>\n",
              "      <th>workingday</th>\n",
              "      <th>weathersit</th>\n",
              "      <th>temp</th>\n",
              "      <th>atemp</th>\n",
              "      <th>hum</th>\n",
              "      <th>windspeed</th>\n",
              "      <th>casual</th>\n",
              "      <th>registered</th>\n",
              "      <th>cnt</th>\n",
              "    </tr>\n",
              "  </thead>\n",
              "  <tbody>\n",
              "    <tr>\n",
              "      <th>0</th>\n",
              "      <td>1</td>\n",
              "      <td>01/01/2011</td>\n",
              "      <td>1</td>\n",
              "      <td>0</td>\n",
              "      <td>1</td>\n",
              "      <td>0</td>\n",
              "      <td>0</td>\n",
              "      <td>6</td>\n",
              "      <td>0</td>\n",
              "      <td>1</td>\n",
              "      <td>0.24</td>\n",
              "      <td>0.2879</td>\n",
              "      <td>0.81</td>\n",
              "      <td>0.0</td>\n",
              "      <td>3</td>\n",
              "      <td>13</td>\n",
              "      <td>16</td>\n",
              "    </tr>\n",
              "    <tr>\n",
              "      <th>1</th>\n",
              "      <td>2</td>\n",
              "      <td>01/01/2011</td>\n",
              "      <td>1</td>\n",
              "      <td>0</td>\n",
              "      <td>1</td>\n",
              "      <td>1</td>\n",
              "      <td>0</td>\n",
              "      <td>6</td>\n",
              "      <td>0</td>\n",
              "      <td>1</td>\n",
              "      <td>0.22</td>\n",
              "      <td>0.2727</td>\n",
              "      <td>0.80</td>\n",
              "      <td>0.0</td>\n",
              "      <td>8</td>\n",
              "      <td>32</td>\n",
              "      <td>40</td>\n",
              "    </tr>\n",
              "    <tr>\n",
              "      <th>2</th>\n",
              "      <td>3</td>\n",
              "      <td>01/01/2011</td>\n",
              "      <td>1</td>\n",
              "      <td>0</td>\n",
              "      <td>1</td>\n",
              "      <td>2</td>\n",
              "      <td>0</td>\n",
              "      <td>6</td>\n",
              "      <td>0</td>\n",
              "      <td>1</td>\n",
              "      <td>0.22</td>\n",
              "      <td>0.2727</td>\n",
              "      <td>0.80</td>\n",
              "      <td>0.0</td>\n",
              "      <td>5</td>\n",
              "      <td>27</td>\n",
              "      <td>32</td>\n",
              "    </tr>\n",
              "    <tr>\n",
              "      <th>3</th>\n",
              "      <td>4</td>\n",
              "      <td>01/01/2011</td>\n",
              "      <td>1</td>\n",
              "      <td>0</td>\n",
              "      <td>1</td>\n",
              "      <td>3</td>\n",
              "      <td>0</td>\n",
              "      <td>6</td>\n",
              "      <td>0</td>\n",
              "      <td>1</td>\n",
              "      <td>0.24</td>\n",
              "      <td>0.2879</td>\n",
              "      <td>0.75</td>\n",
              "      <td>0.0</td>\n",
              "      <td>3</td>\n",
              "      <td>10</td>\n",
              "      <td>13</td>\n",
              "    </tr>\n",
              "    <tr>\n",
              "      <th>4</th>\n",
              "      <td>5</td>\n",
              "      <td>01/01/2011</td>\n",
              "      <td>1</td>\n",
              "      <td>0</td>\n",
              "      <td>1</td>\n",
              "      <td>4</td>\n",
              "      <td>0</td>\n",
              "      <td>6</td>\n",
              "      <td>0</td>\n",
              "      <td>1</td>\n",
              "      <td>0.24</td>\n",
              "      <td>0.2879</td>\n",
              "      <td>0.75</td>\n",
              "      <td>0.0</td>\n",
              "      <td>0</td>\n",
              "      <td>1</td>\n",
              "      <td>1</td>\n",
              "    </tr>\n",
              "  </tbody>\n",
              "</table>\n",
              "</div>"
            ],
            "text/plain": [
              "   instant      dteday  season  yr  mnth  hr  holiday  weekday  workingday  \\\n",
              "0        1  01/01/2011       1   0     1   0        0        6           0   \n",
              "1        2  01/01/2011       1   0     1   1        0        6           0   \n",
              "2        3  01/01/2011       1   0     1   2        0        6           0   \n",
              "3        4  01/01/2011       1   0     1   3        0        6           0   \n",
              "4        5  01/01/2011       1   0     1   4        0        6           0   \n",
              "\n",
              "   weathersit  temp   atemp   hum  windspeed  casual  registered  cnt  \n",
              "0           1  0.24  0.2879  0.81        0.0       3          13   16  \n",
              "1           1  0.22  0.2727  0.80        0.0       8          32   40  \n",
              "2           1  0.22  0.2727  0.80        0.0       5          27   32  \n",
              "3           1  0.24  0.2879  0.75        0.0       3          10   13  \n",
              "4           1  0.24  0.2879  0.75        0.0       0           1    1  "
            ]
          },
          "execution_count": 140,
          "metadata": {},
          "output_type": "execute_result"
        }
      ],
      "source": [
        "hour = pd.read_csv('D:/LaskarAI/laskarai/data/hour.csv', delimiter = ';')\n",
        "hour.head()"
      ]
    },
    {
      "cell_type": "code",
      "execution_count": 141,
      "metadata": {},
      "outputs": [
        {
          "name": "stdout",
          "output_type": "stream",
          "text": [
            "Jumlah baris : 17379\n",
            "Jumlah kolom : 17\n"
          ]
        }
      ],
      "source": [
        "# Menghitung jumlah baris dan kolom pada data\n",
        "print('Jumlah baris :', hour.shape[0])\n",
        "print('Jumlah kolom :', hour.shape[1])"
      ]
    },
    {
      "cell_type": "markdown",
      "metadata": {
        "id": "MMi6xGaDkbCi"
      },
      "source": [
        "**Insight:** Terdapat 17379 baris dan 17 kolom pada data."
      ]
    },
    {
      "cell_type": "markdown",
      "metadata": {
        "id": "FHSiqaZp8DC1"
      },
      "source": [
        "### Assessing Data"
      ]
    },
    {
      "cell_type": "markdown",
      "metadata": {},
      "source": [
        "**Keterangan Data**\n",
        "- instant: record index\n",
        "- dteday : date\n",
        "- season : season (1:springer, 2:summer, 3:fall, 4:winter)\n",
        "- yr : year (0: 2011, 1:2012)\n",
        "- mnth : month \n",
        "- hr : hour\n",
        "- holiday : weather day is holiday or not\n",
        "- weekday : day of the week\n",
        "- workingday : if day is neither weekend nor holiday is 1, otherwise is 0\n",
        "- weathersit : \n",
        "\t- 1: Clear, Few clouds, Partly cloudy, Partly cloudy\n",
        "\t- 2: Mist + Cloudy, Mist + Broken clouds, Mist + Few clouds, Mist\n",
        "\t- 3: Light Snow, Light Rain + Thunderstorm + Scattered clouds, Light Rain + Scattered clouds\n",
        "\t- 4: Heavy Rain + Ice Pallets + Thunderstorm + Mist, Snow + Fog\n",
        "- temp : Normalized temperature in Celsius. The values are divided to 41 (max)\n",
        "- atemp: Normalized feeling temperature in Celsius. The values are divided to 50 (max)\n",
        "- hum: Normalized humidity. The values are divided to 100 (max)\n",
        "- windspeed: Normalized wind speed. The values are divided to 67 (max)\n",
        "- casual: count of casual users\n",
        "- registered: count of registered users\n",
        "- cnt: count of total rental bikes including both casual and registered"
      ]
    },
    {
      "cell_type": "code",
      "execution_count": 142,
      "metadata": {
        "id": "ax-3tEjc9Cj1"
      },
      "outputs": [
        {
          "name": "stdout",
          "output_type": "stream",
          "text": [
            "<class 'pandas.core.frame.DataFrame'>\n",
            "RangeIndex: 17379 entries, 0 to 17378\n",
            "Data columns (total 17 columns):\n",
            " #   Column      Non-Null Count  Dtype  \n",
            "---  ------      --------------  -----  \n",
            " 0   instant     17379 non-null  int64  \n",
            " 1   dteday      17379 non-null  object \n",
            " 2   season      17379 non-null  int64  \n",
            " 3   yr          17379 non-null  int64  \n",
            " 4   mnth        17379 non-null  int64  \n",
            " 5   hr          17379 non-null  int64  \n",
            " 6   holiday     17379 non-null  int64  \n",
            " 7   weekday     17379 non-null  int64  \n",
            " 8   workingday  17379 non-null  int64  \n",
            " 9   weathersit  17379 non-null  int64  \n",
            " 10  temp        17379 non-null  float64\n",
            " 11  atemp       17379 non-null  float64\n",
            " 12  hum         17379 non-null  float64\n",
            " 13  windspeed   17379 non-null  float64\n",
            " 14  casual      17379 non-null  int64  \n",
            " 15  registered  17379 non-null  int64  \n",
            " 16  cnt         17379 non-null  int64  \n",
            "dtypes: float64(4), int64(12), object(1)\n",
            "memory usage: 2.3+ MB\n"
          ]
        }
      ],
      "source": [
        "hour.info()"
      ]
    },
    {
      "cell_type": "markdown",
      "metadata": {},
      "source": [
        "**Insight:** Terdapat kesalahan tipe data pada kolom dteday yang seharusnya lebih tepat direpresentasikan sebagai tipe data datetime. Selain itu, kolom season, yr, mnth, holiday, weekday, workingday, dan weathersit juga termasuk ke dalam data kategori."
      ]
    },
    {
      "cell_type": "code",
      "execution_count": 143,
      "metadata": {},
      "outputs": [
        {
          "data": {
            "text/plain": [
              "instant       0\n",
              "dteday        0\n",
              "season        0\n",
              "yr            0\n",
              "mnth          0\n",
              "hr            0\n",
              "holiday       0\n",
              "weekday       0\n",
              "workingday    0\n",
              "weathersit    0\n",
              "temp          0\n",
              "atemp         0\n",
              "hum           0\n",
              "windspeed     0\n",
              "casual        0\n",
              "registered    0\n",
              "cnt           0\n",
              "dtype: int64"
            ]
          },
          "execution_count": 143,
          "metadata": {},
          "output_type": "execute_result"
        }
      ],
      "source": [
        "# Pengecekan missing value\n",
        "hour.isna().sum()"
      ]
    },
    {
      "cell_type": "markdown",
      "metadata": {
        "id": "7dtxhAPrkhPL"
      },
      "source": [
        "**Insight:** Tidak terdapat missing value pada data."
      ]
    },
    {
      "cell_type": "code",
      "execution_count": 144,
      "metadata": {},
      "outputs": [
        {
          "data": {
            "text/plain": [
              "np.int64(0)"
            ]
          },
          "execution_count": 144,
          "metadata": {},
          "output_type": "execute_result"
        }
      ],
      "source": [
        "# Pengecekan duplikat data\n",
        "hour.duplicated().sum()"
      ]
    },
    {
      "cell_type": "markdown",
      "metadata": {},
      "source": [
        "**Insight:** Tidak terdapat duplikasi pada data."
      ]
    },
    {
      "cell_type": "code",
      "execution_count": 145,
      "metadata": {},
      "outputs": [
        {
          "data": {
            "application/vnd.microsoft.datawrangler.viewer.v0+json": {
              "columns": [
                {
                  "name": "index",
                  "rawType": "object",
                  "type": "string"
                },
                {
                  "name": "instant",
                  "rawType": "float64",
                  "type": "float"
                },
                {
                  "name": "season",
                  "rawType": "float64",
                  "type": "float"
                },
                {
                  "name": "yr",
                  "rawType": "float64",
                  "type": "float"
                },
                {
                  "name": "mnth",
                  "rawType": "float64",
                  "type": "float"
                },
                {
                  "name": "hr",
                  "rawType": "float64",
                  "type": "float"
                },
                {
                  "name": "holiday",
                  "rawType": "float64",
                  "type": "float"
                },
                {
                  "name": "weekday",
                  "rawType": "float64",
                  "type": "float"
                },
                {
                  "name": "workingday",
                  "rawType": "float64",
                  "type": "float"
                },
                {
                  "name": "weathersit",
                  "rawType": "float64",
                  "type": "float"
                },
                {
                  "name": "temp",
                  "rawType": "float64",
                  "type": "float"
                },
                {
                  "name": "atemp",
                  "rawType": "float64",
                  "type": "float"
                },
                {
                  "name": "hum",
                  "rawType": "float64",
                  "type": "float"
                },
                {
                  "name": "windspeed",
                  "rawType": "float64",
                  "type": "float"
                },
                {
                  "name": "casual",
                  "rawType": "float64",
                  "type": "float"
                },
                {
                  "name": "registered",
                  "rawType": "float64",
                  "type": "float"
                },
                {
                  "name": "cnt",
                  "rawType": "float64",
                  "type": "float"
                }
              ],
              "conversionMethod": "pd.DataFrame",
              "ref": "4b841a63-ed4c-4489-86fc-71a861384417",
              "rows": [
                [
                  "count",
                  "17379.0",
                  "17379.0",
                  "17379.0",
                  "17379.0",
                  "17379.0",
                  "17379.0",
                  "17379.0",
                  "17379.0",
                  "17379.0",
                  "17379.0",
                  "17379.0",
                  "17379.0",
                  "17379.0",
                  "17379.0",
                  "17379.0",
                  "17379.0"
                ],
                [
                  "mean",
                  "8690.0",
                  "2.5016399102364923",
                  "0.5025605615973301",
                  "6.537775476149376",
                  "11.546751826917545",
                  "0.028770355026181024",
                  "3.003682605443351",
                  "0.6827205247712756",
                  "1.425283387997008",
                  "0.4969871684216583",
                  "0.4757751021347604",
                  "0.6272288394038783",
                  "0.1900976063064618",
                  "35.67621842453536",
                  "153.78686920996606",
                  "189.46308763450142"
                ],
                [
                  "std",
                  "5017.029499614288",
                  "1.1069181394480763",
                  "0.5000078290910197",
                  "3.4387757137501653",
                  "6.9144050952644935",
                  "0.16716527638437123",
                  "2.005771456110988",
                  "0.46543063352388286",
                  "0.6393568777542534",
                  "0.1925561212497219",
                  "0.17185021563535943",
                  "0.19292983406291508",
                  "0.12234022857279049",
                  "49.30503038705308",
                  "151.35728591258314",
                  "181.38759909186473"
                ],
                [
                  "min",
                  "1.0",
                  "1.0",
                  "0.0",
                  "1.0",
                  "0.0",
                  "0.0",
                  "0.0",
                  "0.0",
                  "1.0",
                  "0.02",
                  "0.0",
                  "0.0",
                  "0.0",
                  "0.0",
                  "0.0",
                  "1.0"
                ],
                [
                  "25%",
                  "4345.5",
                  "2.0",
                  "0.0",
                  "4.0",
                  "6.0",
                  "0.0",
                  "1.0",
                  "0.0",
                  "1.0",
                  "0.34",
                  "0.3333",
                  "0.48",
                  "0.1045",
                  "4.0",
                  "34.0",
                  "40.0"
                ],
                [
                  "50%",
                  "8690.0",
                  "3.0",
                  "1.0",
                  "7.0",
                  "12.0",
                  "0.0",
                  "3.0",
                  "1.0",
                  "1.0",
                  "0.5",
                  "0.4848",
                  "0.63",
                  "0.194",
                  "17.0",
                  "115.0",
                  "142.0"
                ],
                [
                  "75%",
                  "13034.5",
                  "3.0",
                  "1.0",
                  "10.0",
                  "18.0",
                  "0.0",
                  "5.0",
                  "1.0",
                  "2.0",
                  "0.66",
                  "0.6212",
                  "0.78",
                  "0.2537",
                  "48.0",
                  "220.0",
                  "281.0"
                ],
                [
                  "max",
                  "17379.0",
                  "4.0",
                  "1.0",
                  "12.0",
                  "23.0",
                  "1.0",
                  "6.0",
                  "1.0",
                  "4.0",
                  "1.0",
                  "1.0",
                  "1.0",
                  "0.8507",
                  "367.0",
                  "886.0",
                  "977.0"
                ]
              ],
              "shape": {
                "columns": 16,
                "rows": 8
              }
            },
            "text/html": [
              "<div>\n",
              "<style scoped>\n",
              "    .dataframe tbody tr th:only-of-type {\n",
              "        vertical-align: middle;\n",
              "    }\n",
              "\n",
              "    .dataframe tbody tr th {\n",
              "        vertical-align: top;\n",
              "    }\n",
              "\n",
              "    .dataframe thead th {\n",
              "        text-align: right;\n",
              "    }\n",
              "</style>\n",
              "<table border=\"1\" class=\"dataframe\">\n",
              "  <thead>\n",
              "    <tr style=\"text-align: right;\">\n",
              "      <th></th>\n",
              "      <th>instant</th>\n",
              "      <th>season</th>\n",
              "      <th>yr</th>\n",
              "      <th>mnth</th>\n",
              "      <th>hr</th>\n",
              "      <th>holiday</th>\n",
              "      <th>weekday</th>\n",
              "      <th>workingday</th>\n",
              "      <th>weathersit</th>\n",
              "      <th>temp</th>\n",
              "      <th>atemp</th>\n",
              "      <th>hum</th>\n",
              "      <th>windspeed</th>\n",
              "      <th>casual</th>\n",
              "      <th>registered</th>\n",
              "      <th>cnt</th>\n",
              "    </tr>\n",
              "  </thead>\n",
              "  <tbody>\n",
              "    <tr>\n",
              "      <th>count</th>\n",
              "      <td>17379.0000</td>\n",
              "      <td>17379.000000</td>\n",
              "      <td>17379.000000</td>\n",
              "      <td>17379.000000</td>\n",
              "      <td>17379.000000</td>\n",
              "      <td>17379.000000</td>\n",
              "      <td>17379.000000</td>\n",
              "      <td>17379.000000</td>\n",
              "      <td>17379.000000</td>\n",
              "      <td>17379.000000</td>\n",
              "      <td>17379.000000</td>\n",
              "      <td>17379.000000</td>\n",
              "      <td>17379.000000</td>\n",
              "      <td>17379.000000</td>\n",
              "      <td>17379.000000</td>\n",
              "      <td>17379.000000</td>\n",
              "    </tr>\n",
              "    <tr>\n",
              "      <th>mean</th>\n",
              "      <td>8690.0000</td>\n",
              "      <td>2.501640</td>\n",
              "      <td>0.502561</td>\n",
              "      <td>6.537775</td>\n",
              "      <td>11.546752</td>\n",
              "      <td>0.028770</td>\n",
              "      <td>3.003683</td>\n",
              "      <td>0.682721</td>\n",
              "      <td>1.425283</td>\n",
              "      <td>0.496987</td>\n",
              "      <td>0.475775</td>\n",
              "      <td>0.627229</td>\n",
              "      <td>0.190098</td>\n",
              "      <td>35.676218</td>\n",
              "      <td>153.786869</td>\n",
              "      <td>189.463088</td>\n",
              "    </tr>\n",
              "    <tr>\n",
              "      <th>std</th>\n",
              "      <td>5017.0295</td>\n",
              "      <td>1.106918</td>\n",
              "      <td>0.500008</td>\n",
              "      <td>3.438776</td>\n",
              "      <td>6.914405</td>\n",
              "      <td>0.167165</td>\n",
              "      <td>2.005771</td>\n",
              "      <td>0.465431</td>\n",
              "      <td>0.639357</td>\n",
              "      <td>0.192556</td>\n",
              "      <td>0.171850</td>\n",
              "      <td>0.192930</td>\n",
              "      <td>0.122340</td>\n",
              "      <td>49.305030</td>\n",
              "      <td>151.357286</td>\n",
              "      <td>181.387599</td>\n",
              "    </tr>\n",
              "    <tr>\n",
              "      <th>min</th>\n",
              "      <td>1.0000</td>\n",
              "      <td>1.000000</td>\n",
              "      <td>0.000000</td>\n",
              "      <td>1.000000</td>\n",
              "      <td>0.000000</td>\n",
              "      <td>0.000000</td>\n",
              "      <td>0.000000</td>\n",
              "      <td>0.000000</td>\n",
              "      <td>1.000000</td>\n",
              "      <td>0.020000</td>\n",
              "      <td>0.000000</td>\n",
              "      <td>0.000000</td>\n",
              "      <td>0.000000</td>\n",
              "      <td>0.000000</td>\n",
              "      <td>0.000000</td>\n",
              "      <td>1.000000</td>\n",
              "    </tr>\n",
              "    <tr>\n",
              "      <th>25%</th>\n",
              "      <td>4345.5000</td>\n",
              "      <td>2.000000</td>\n",
              "      <td>0.000000</td>\n",
              "      <td>4.000000</td>\n",
              "      <td>6.000000</td>\n",
              "      <td>0.000000</td>\n",
              "      <td>1.000000</td>\n",
              "      <td>0.000000</td>\n",
              "      <td>1.000000</td>\n",
              "      <td>0.340000</td>\n",
              "      <td>0.333300</td>\n",
              "      <td>0.480000</td>\n",
              "      <td>0.104500</td>\n",
              "      <td>4.000000</td>\n",
              "      <td>34.000000</td>\n",
              "      <td>40.000000</td>\n",
              "    </tr>\n",
              "    <tr>\n",
              "      <th>50%</th>\n",
              "      <td>8690.0000</td>\n",
              "      <td>3.000000</td>\n",
              "      <td>1.000000</td>\n",
              "      <td>7.000000</td>\n",
              "      <td>12.000000</td>\n",
              "      <td>0.000000</td>\n",
              "      <td>3.000000</td>\n",
              "      <td>1.000000</td>\n",
              "      <td>1.000000</td>\n",
              "      <td>0.500000</td>\n",
              "      <td>0.484800</td>\n",
              "      <td>0.630000</td>\n",
              "      <td>0.194000</td>\n",
              "      <td>17.000000</td>\n",
              "      <td>115.000000</td>\n",
              "      <td>142.000000</td>\n",
              "    </tr>\n",
              "    <tr>\n",
              "      <th>75%</th>\n",
              "      <td>13034.5000</td>\n",
              "      <td>3.000000</td>\n",
              "      <td>1.000000</td>\n",
              "      <td>10.000000</td>\n",
              "      <td>18.000000</td>\n",
              "      <td>0.000000</td>\n",
              "      <td>5.000000</td>\n",
              "      <td>1.000000</td>\n",
              "      <td>2.000000</td>\n",
              "      <td>0.660000</td>\n",
              "      <td>0.621200</td>\n",
              "      <td>0.780000</td>\n",
              "      <td>0.253700</td>\n",
              "      <td>48.000000</td>\n",
              "      <td>220.000000</td>\n",
              "      <td>281.000000</td>\n",
              "    </tr>\n",
              "    <tr>\n",
              "      <th>max</th>\n",
              "      <td>17379.0000</td>\n",
              "      <td>4.000000</td>\n",
              "      <td>1.000000</td>\n",
              "      <td>12.000000</td>\n",
              "      <td>23.000000</td>\n",
              "      <td>1.000000</td>\n",
              "      <td>6.000000</td>\n",
              "      <td>1.000000</td>\n",
              "      <td>4.000000</td>\n",
              "      <td>1.000000</td>\n",
              "      <td>1.000000</td>\n",
              "      <td>1.000000</td>\n",
              "      <td>0.850700</td>\n",
              "      <td>367.000000</td>\n",
              "      <td>886.000000</td>\n",
              "      <td>977.000000</td>\n",
              "    </tr>\n",
              "  </tbody>\n",
              "</table>\n",
              "</div>"
            ],
            "text/plain": [
              "          instant        season            yr          mnth            hr  \\\n",
              "count  17379.0000  17379.000000  17379.000000  17379.000000  17379.000000   \n",
              "mean    8690.0000      2.501640      0.502561      6.537775     11.546752   \n",
              "std     5017.0295      1.106918      0.500008      3.438776      6.914405   \n",
              "min        1.0000      1.000000      0.000000      1.000000      0.000000   \n",
              "25%     4345.5000      2.000000      0.000000      4.000000      6.000000   \n",
              "50%     8690.0000      3.000000      1.000000      7.000000     12.000000   \n",
              "75%    13034.5000      3.000000      1.000000     10.000000     18.000000   \n",
              "max    17379.0000      4.000000      1.000000     12.000000     23.000000   \n",
              "\n",
              "            holiday       weekday    workingday    weathersit          temp  \\\n",
              "count  17379.000000  17379.000000  17379.000000  17379.000000  17379.000000   \n",
              "mean       0.028770      3.003683      0.682721      1.425283      0.496987   \n",
              "std        0.167165      2.005771      0.465431      0.639357      0.192556   \n",
              "min        0.000000      0.000000      0.000000      1.000000      0.020000   \n",
              "25%        0.000000      1.000000      0.000000      1.000000      0.340000   \n",
              "50%        0.000000      3.000000      1.000000      1.000000      0.500000   \n",
              "75%        0.000000      5.000000      1.000000      2.000000      0.660000   \n",
              "max        1.000000      6.000000      1.000000      4.000000      1.000000   \n",
              "\n",
              "              atemp           hum     windspeed        casual    registered  \\\n",
              "count  17379.000000  17379.000000  17379.000000  17379.000000  17379.000000   \n",
              "mean       0.475775      0.627229      0.190098     35.676218    153.786869   \n",
              "std        0.171850      0.192930      0.122340     49.305030    151.357286   \n",
              "min        0.000000      0.000000      0.000000      0.000000      0.000000   \n",
              "25%        0.333300      0.480000      0.104500      4.000000     34.000000   \n",
              "50%        0.484800      0.630000      0.194000     17.000000    115.000000   \n",
              "75%        0.621200      0.780000      0.253700     48.000000    220.000000   \n",
              "max        1.000000      1.000000      0.850700    367.000000    886.000000   \n",
              "\n",
              "                cnt  \n",
              "count  17379.000000  \n",
              "mean     189.463088  \n",
              "std      181.387599  \n",
              "min        1.000000  \n",
              "25%       40.000000  \n",
              "50%      142.000000  \n",
              "75%      281.000000  \n",
              "max      977.000000  "
            ]
          },
          "execution_count": 145,
          "metadata": {},
          "output_type": "execute_result"
        }
      ],
      "source": [
        "# Memeriksa parameter statistik dari setiap kolom numerik\n",
        "hour.describe()"
      ]
    },
    {
      "cell_type": "markdown",
      "metadata": {
        "id": "EhN5R4hr8DC1"
      },
      "source": [
        "### Cleaning Data"
      ]
    },
    {
      "cell_type": "code",
      "execution_count": 146,
      "metadata": {
        "id": "jVnYpprE9Evz"
      },
      "outputs": [],
      "source": [
        "# Mengubah tipe data yang tidak sesuai\n",
        "hour['dteday']=pd.to_datetime(hour['dteday'], dayfirst=True)\n",
        "hour['season']=hour.season.astype('category')\n",
        "hour['yr']=hour.yr.astype('category')\n",
        "hour['mnth']=hour.mnth.astype('category')\n",
        "hour['hr']=hour.hr.astype('category')\n",
        "hour['holiday']=hour.holiday.astype('category')\n",
        "hour['weekday']=hour.weekday.astype('category')\n",
        "hour['workingday']=hour.workingday.astype('category')\n",
        "hour['weathersit']=hour.weathersit.astype('category')"
      ]
    },
    {
      "cell_type": "code",
      "execution_count": 147,
      "metadata": {},
      "outputs": [
        {
          "name": "stdout",
          "output_type": "stream",
          "text": [
            "<class 'pandas.core.frame.DataFrame'>\n",
            "RangeIndex: 17379 entries, 0 to 17378\n",
            "Data columns (total 17 columns):\n",
            " #   Column      Non-Null Count  Dtype         \n",
            "---  ------      --------------  -----         \n",
            " 0   instant     17379 non-null  int64         \n",
            " 1   dteday      17379 non-null  datetime64[ns]\n",
            " 2   season      17379 non-null  category      \n",
            " 3   yr          17379 non-null  category      \n",
            " 4   mnth        17379 non-null  category      \n",
            " 5   hr          17379 non-null  category      \n",
            " 6   holiday     17379 non-null  category      \n",
            " 7   weekday     17379 non-null  category      \n",
            " 8   workingday  17379 non-null  category      \n",
            " 9   weathersit  17379 non-null  category      \n",
            " 10  temp        17379 non-null  float64       \n",
            " 11  atemp       17379 non-null  float64       \n",
            " 12  hum         17379 non-null  float64       \n",
            " 13  windspeed   17379 non-null  float64       \n",
            " 14  casual      17379 non-null  int64         \n",
            " 15  registered  17379 non-null  int64         \n",
            " 16  cnt         17379 non-null  int64         \n",
            "dtypes: category(8), datetime64[ns](1), float64(4), int64(4)\n",
            "memory usage: 1.3 MB\n"
          ]
        }
      ],
      "source": [
        "# Memeriksa kembali tipe data\n",
        "hour.info()"
      ]
    },
    {
      "cell_type": "markdown",
      "metadata": {
        "id": "Q_5ejIqckiSP"
      },
      "source": [
        "**Insight:** Kesalahan tipe data sudah ditangani. Kolom dteday telah direpresentasikan sebagai tipe data datetime serta kolom season, yr, mnth, holiday, weekday, workingday, dan weathersit sudah termasuk ke dalam data kategori."
      ]
    },
    {
      "cell_type": "markdown",
      "metadata": {
        "id": "gp-Y6wU38DC1"
      },
      "source": [
        "## Exploratory Data Analysis (EDA)"
      ]
    },
    {
      "cell_type": "markdown",
      "metadata": {
        "id": "MW7WF2kr8DC1"
      },
      "source": [
        "### Explore Data Hour"
      ]
    },
    {
      "cell_type": "code",
      "execution_count": 148,
      "metadata": {
        "id": "e9CQCZjk8DC2"
      },
      "outputs": [
        {
          "data": {
            "application/vnd.microsoft.datawrangler.viewer.v0+json": {
              "columns": [
                {
                  "name": "index",
                  "rawType": "object",
                  "type": "string"
                },
                {
                  "name": "instant",
                  "rawType": "float64",
                  "type": "float"
                },
                {
                  "name": "dteday",
                  "rawType": "object",
                  "type": "unknown"
                },
                {
                  "name": "season",
                  "rawType": "float64",
                  "type": "float"
                },
                {
                  "name": "yr",
                  "rawType": "float64",
                  "type": "float"
                },
                {
                  "name": "mnth",
                  "rawType": "float64",
                  "type": "float"
                },
                {
                  "name": "hr",
                  "rawType": "float64",
                  "type": "float"
                },
                {
                  "name": "holiday",
                  "rawType": "float64",
                  "type": "float"
                },
                {
                  "name": "weekday",
                  "rawType": "float64",
                  "type": "float"
                },
                {
                  "name": "workingday",
                  "rawType": "float64",
                  "type": "float"
                },
                {
                  "name": "weathersit",
                  "rawType": "float64",
                  "type": "float"
                },
                {
                  "name": "temp",
                  "rawType": "float64",
                  "type": "float"
                },
                {
                  "name": "atemp",
                  "rawType": "float64",
                  "type": "float"
                },
                {
                  "name": "hum",
                  "rawType": "float64",
                  "type": "float"
                },
                {
                  "name": "windspeed",
                  "rawType": "float64",
                  "type": "float"
                },
                {
                  "name": "casual",
                  "rawType": "float64",
                  "type": "float"
                },
                {
                  "name": "registered",
                  "rawType": "float64",
                  "type": "float"
                },
                {
                  "name": "cnt",
                  "rawType": "float64",
                  "type": "float"
                }
              ],
              "conversionMethod": "pd.DataFrame",
              "ref": "36205523-0b72-48b1-86f3-639d388eb5ae",
              "rows": [
                [
                  "count",
                  "17379.0",
                  "17379",
                  "17379.0",
                  "17379.0",
                  "17379.0",
                  "17379.0",
                  "17379.0",
                  "17379.0",
                  "17379.0",
                  "17379.0",
                  "17379.0",
                  "17379.0",
                  "17379.0",
                  "17379.0",
                  "17379.0",
                  "17379.0",
                  "17379.0"
                ],
                [
                  "unique",
                  null,
                  null,
                  "4.0",
                  "2.0",
                  "12.0",
                  "24.0",
                  "2.0",
                  "7.0",
                  "2.0",
                  "4.0",
                  null,
                  null,
                  null,
                  null,
                  null,
                  null,
                  null
                ],
                [
                  "top",
                  null,
                  null,
                  "3.0",
                  "1.0",
                  "7.0",
                  "16.0",
                  "0.0",
                  "6.0",
                  "1.0",
                  "1.0",
                  null,
                  null,
                  null,
                  null,
                  null,
                  null,
                  null
                ],
                [
                  "freq",
                  null,
                  null,
                  "4496.0",
                  "8734.0",
                  "1488.0",
                  "730.0",
                  "16879.0",
                  "2512.0",
                  "11865.0",
                  "11413.0",
                  null,
                  null,
                  null,
                  null,
                  null,
                  null,
                  null
                ],
                [
                  "mean",
                  "8690.0",
                  "2012-01-02 04:08:34.552045568",
                  null,
                  null,
                  null,
                  null,
                  null,
                  null,
                  null,
                  null,
                  "0.4969871684216583",
                  "0.4757751021347604",
                  "0.6272288394038783",
                  "0.1900976063064618",
                  "35.67621842453536",
                  "153.78686920996606",
                  "189.46308763450142"
                ],
                [
                  "min",
                  "1.0",
                  "2011-01-01 00:00:00",
                  null,
                  null,
                  null,
                  null,
                  null,
                  null,
                  null,
                  null,
                  "0.02",
                  "0.0",
                  "0.0",
                  "0.0",
                  "0.0",
                  "0.0",
                  "1.0"
                ],
                [
                  "25%",
                  "4345.5",
                  "2011-07-04 00:00:00",
                  null,
                  null,
                  null,
                  null,
                  null,
                  null,
                  null,
                  null,
                  "0.34",
                  "0.3333",
                  "0.48",
                  "0.1045",
                  "4.0",
                  "34.0",
                  "40.0"
                ],
                [
                  "50%",
                  "8690.0",
                  "2012-01-02 00:00:00",
                  null,
                  null,
                  null,
                  null,
                  null,
                  null,
                  null,
                  null,
                  "0.5",
                  "0.4848",
                  "0.63",
                  "0.194",
                  "17.0",
                  "115.0",
                  "142.0"
                ],
                [
                  "75%",
                  "13034.5",
                  "2012-07-02 00:00:00",
                  null,
                  null,
                  null,
                  null,
                  null,
                  null,
                  null,
                  null,
                  "0.66",
                  "0.6212",
                  "0.78",
                  "0.2537",
                  "48.0",
                  "220.0",
                  "281.0"
                ],
                [
                  "max",
                  "17379.0",
                  "2012-12-31 00:00:00",
                  null,
                  null,
                  null,
                  null,
                  null,
                  null,
                  null,
                  null,
                  "1.0",
                  "1.0",
                  "1.0",
                  "0.8507",
                  "367.0",
                  "886.0",
                  "977.0"
                ],
                [
                  "std",
                  "5017.029499614288",
                  null,
                  null,
                  null,
                  null,
                  null,
                  null,
                  null,
                  null,
                  null,
                  "0.1925561212497219",
                  "0.17185021563535943",
                  "0.19292983406291508",
                  "0.12234022857279049",
                  "49.30503038705308",
                  "151.35728591258314",
                  "181.38759909186473"
                ]
              ],
              "shape": {
                "columns": 17,
                "rows": 11
              }
            },
            "text/html": [
              "<div>\n",
              "<style scoped>\n",
              "    .dataframe tbody tr th:only-of-type {\n",
              "        vertical-align: middle;\n",
              "    }\n",
              "\n",
              "    .dataframe tbody tr th {\n",
              "        vertical-align: top;\n",
              "    }\n",
              "\n",
              "    .dataframe thead th {\n",
              "        text-align: right;\n",
              "    }\n",
              "</style>\n",
              "<table border=\"1\" class=\"dataframe\">\n",
              "  <thead>\n",
              "    <tr style=\"text-align: right;\">\n",
              "      <th></th>\n",
              "      <th>instant</th>\n",
              "      <th>dteday</th>\n",
              "      <th>season</th>\n",
              "      <th>yr</th>\n",
              "      <th>mnth</th>\n",
              "      <th>hr</th>\n",
              "      <th>holiday</th>\n",
              "      <th>weekday</th>\n",
              "      <th>workingday</th>\n",
              "      <th>weathersit</th>\n",
              "      <th>temp</th>\n",
              "      <th>atemp</th>\n",
              "      <th>hum</th>\n",
              "      <th>windspeed</th>\n",
              "      <th>casual</th>\n",
              "      <th>registered</th>\n",
              "      <th>cnt</th>\n",
              "    </tr>\n",
              "  </thead>\n",
              "  <tbody>\n",
              "    <tr>\n",
              "      <th>count</th>\n",
              "      <td>17379.0000</td>\n",
              "      <td>17379</td>\n",
              "      <td>17379.0</td>\n",
              "      <td>17379.0</td>\n",
              "      <td>17379.0</td>\n",
              "      <td>17379.0</td>\n",
              "      <td>17379.0</td>\n",
              "      <td>17379.0</td>\n",
              "      <td>17379.0</td>\n",
              "      <td>17379.0</td>\n",
              "      <td>17379.000000</td>\n",
              "      <td>17379.000000</td>\n",
              "      <td>17379.000000</td>\n",
              "      <td>17379.000000</td>\n",
              "      <td>17379.000000</td>\n",
              "      <td>17379.000000</td>\n",
              "      <td>17379.000000</td>\n",
              "    </tr>\n",
              "    <tr>\n",
              "      <th>unique</th>\n",
              "      <td>NaN</td>\n",
              "      <td>NaN</td>\n",
              "      <td>4.0</td>\n",
              "      <td>2.0</td>\n",
              "      <td>12.0</td>\n",
              "      <td>24.0</td>\n",
              "      <td>2.0</td>\n",
              "      <td>7.0</td>\n",
              "      <td>2.0</td>\n",
              "      <td>4.0</td>\n",
              "      <td>NaN</td>\n",
              "      <td>NaN</td>\n",
              "      <td>NaN</td>\n",
              "      <td>NaN</td>\n",
              "      <td>NaN</td>\n",
              "      <td>NaN</td>\n",
              "      <td>NaN</td>\n",
              "    </tr>\n",
              "    <tr>\n",
              "      <th>top</th>\n",
              "      <td>NaN</td>\n",
              "      <td>NaN</td>\n",
              "      <td>3.0</td>\n",
              "      <td>1.0</td>\n",
              "      <td>7.0</td>\n",
              "      <td>16.0</td>\n",
              "      <td>0.0</td>\n",
              "      <td>6.0</td>\n",
              "      <td>1.0</td>\n",
              "      <td>1.0</td>\n",
              "      <td>NaN</td>\n",
              "      <td>NaN</td>\n",
              "      <td>NaN</td>\n",
              "      <td>NaN</td>\n",
              "      <td>NaN</td>\n",
              "      <td>NaN</td>\n",
              "      <td>NaN</td>\n",
              "    </tr>\n",
              "    <tr>\n",
              "      <th>freq</th>\n",
              "      <td>NaN</td>\n",
              "      <td>NaN</td>\n",
              "      <td>4496.0</td>\n",
              "      <td>8734.0</td>\n",
              "      <td>1488.0</td>\n",
              "      <td>730.0</td>\n",
              "      <td>16879.0</td>\n",
              "      <td>2512.0</td>\n",
              "      <td>11865.0</td>\n",
              "      <td>11413.0</td>\n",
              "      <td>NaN</td>\n",
              "      <td>NaN</td>\n",
              "      <td>NaN</td>\n",
              "      <td>NaN</td>\n",
              "      <td>NaN</td>\n",
              "      <td>NaN</td>\n",
              "      <td>NaN</td>\n",
              "    </tr>\n",
              "    <tr>\n",
              "      <th>mean</th>\n",
              "      <td>8690.0000</td>\n",
              "      <td>2012-01-02 04:08:34.552045568</td>\n",
              "      <td>NaN</td>\n",
              "      <td>NaN</td>\n",
              "      <td>NaN</td>\n",
              "      <td>NaN</td>\n",
              "      <td>NaN</td>\n",
              "      <td>NaN</td>\n",
              "      <td>NaN</td>\n",
              "      <td>NaN</td>\n",
              "      <td>0.496987</td>\n",
              "      <td>0.475775</td>\n",
              "      <td>0.627229</td>\n",
              "      <td>0.190098</td>\n",
              "      <td>35.676218</td>\n",
              "      <td>153.786869</td>\n",
              "      <td>189.463088</td>\n",
              "    </tr>\n",
              "    <tr>\n",
              "      <th>min</th>\n",
              "      <td>1.0000</td>\n",
              "      <td>2011-01-01 00:00:00</td>\n",
              "      <td>NaN</td>\n",
              "      <td>NaN</td>\n",
              "      <td>NaN</td>\n",
              "      <td>NaN</td>\n",
              "      <td>NaN</td>\n",
              "      <td>NaN</td>\n",
              "      <td>NaN</td>\n",
              "      <td>NaN</td>\n",
              "      <td>0.020000</td>\n",
              "      <td>0.000000</td>\n",
              "      <td>0.000000</td>\n",
              "      <td>0.000000</td>\n",
              "      <td>0.000000</td>\n",
              "      <td>0.000000</td>\n",
              "      <td>1.000000</td>\n",
              "    </tr>\n",
              "    <tr>\n",
              "      <th>25%</th>\n",
              "      <td>4345.5000</td>\n",
              "      <td>2011-07-04 00:00:00</td>\n",
              "      <td>NaN</td>\n",
              "      <td>NaN</td>\n",
              "      <td>NaN</td>\n",
              "      <td>NaN</td>\n",
              "      <td>NaN</td>\n",
              "      <td>NaN</td>\n",
              "      <td>NaN</td>\n",
              "      <td>NaN</td>\n",
              "      <td>0.340000</td>\n",
              "      <td>0.333300</td>\n",
              "      <td>0.480000</td>\n",
              "      <td>0.104500</td>\n",
              "      <td>4.000000</td>\n",
              "      <td>34.000000</td>\n",
              "      <td>40.000000</td>\n",
              "    </tr>\n",
              "    <tr>\n",
              "      <th>50%</th>\n",
              "      <td>8690.0000</td>\n",
              "      <td>2012-01-02 00:00:00</td>\n",
              "      <td>NaN</td>\n",
              "      <td>NaN</td>\n",
              "      <td>NaN</td>\n",
              "      <td>NaN</td>\n",
              "      <td>NaN</td>\n",
              "      <td>NaN</td>\n",
              "      <td>NaN</td>\n",
              "      <td>NaN</td>\n",
              "      <td>0.500000</td>\n",
              "      <td>0.484800</td>\n",
              "      <td>0.630000</td>\n",
              "      <td>0.194000</td>\n",
              "      <td>17.000000</td>\n",
              "      <td>115.000000</td>\n",
              "      <td>142.000000</td>\n",
              "    </tr>\n",
              "    <tr>\n",
              "      <th>75%</th>\n",
              "      <td>13034.5000</td>\n",
              "      <td>2012-07-02 00:00:00</td>\n",
              "      <td>NaN</td>\n",
              "      <td>NaN</td>\n",
              "      <td>NaN</td>\n",
              "      <td>NaN</td>\n",
              "      <td>NaN</td>\n",
              "      <td>NaN</td>\n",
              "      <td>NaN</td>\n",
              "      <td>NaN</td>\n",
              "      <td>0.660000</td>\n",
              "      <td>0.621200</td>\n",
              "      <td>0.780000</td>\n",
              "      <td>0.253700</td>\n",
              "      <td>48.000000</td>\n",
              "      <td>220.000000</td>\n",
              "      <td>281.000000</td>\n",
              "    </tr>\n",
              "    <tr>\n",
              "      <th>max</th>\n",
              "      <td>17379.0000</td>\n",
              "      <td>2012-12-31 00:00:00</td>\n",
              "      <td>NaN</td>\n",
              "      <td>NaN</td>\n",
              "      <td>NaN</td>\n",
              "      <td>NaN</td>\n",
              "      <td>NaN</td>\n",
              "      <td>NaN</td>\n",
              "      <td>NaN</td>\n",
              "      <td>NaN</td>\n",
              "      <td>1.000000</td>\n",
              "      <td>1.000000</td>\n",
              "      <td>1.000000</td>\n",
              "      <td>0.850700</td>\n",
              "      <td>367.000000</td>\n",
              "      <td>886.000000</td>\n",
              "      <td>977.000000</td>\n",
              "    </tr>\n",
              "    <tr>\n",
              "      <th>std</th>\n",
              "      <td>5017.0295</td>\n",
              "      <td>NaN</td>\n",
              "      <td>NaN</td>\n",
              "      <td>NaN</td>\n",
              "      <td>NaN</td>\n",
              "      <td>NaN</td>\n",
              "      <td>NaN</td>\n",
              "      <td>NaN</td>\n",
              "      <td>NaN</td>\n",
              "      <td>NaN</td>\n",
              "      <td>0.192556</td>\n",
              "      <td>0.171850</td>\n",
              "      <td>0.192930</td>\n",
              "      <td>0.122340</td>\n",
              "      <td>49.305030</td>\n",
              "      <td>151.357286</td>\n",
              "      <td>181.387599</td>\n",
              "    </tr>\n",
              "  </tbody>\n",
              "</table>\n",
              "</div>"
            ],
            "text/plain": [
              "           instant                         dteday   season       yr     mnth  \\\n",
              "count   17379.0000                          17379  17379.0  17379.0  17379.0   \n",
              "unique         NaN                            NaN      4.0      2.0     12.0   \n",
              "top            NaN                            NaN      3.0      1.0      7.0   \n",
              "freq           NaN                            NaN   4496.0   8734.0   1488.0   \n",
              "mean     8690.0000  2012-01-02 04:08:34.552045568      NaN      NaN      NaN   \n",
              "min         1.0000            2011-01-01 00:00:00      NaN      NaN      NaN   \n",
              "25%      4345.5000            2011-07-04 00:00:00      NaN      NaN      NaN   \n",
              "50%      8690.0000            2012-01-02 00:00:00      NaN      NaN      NaN   \n",
              "75%     13034.5000            2012-07-02 00:00:00      NaN      NaN      NaN   \n",
              "max     17379.0000            2012-12-31 00:00:00      NaN      NaN      NaN   \n",
              "std      5017.0295                            NaN      NaN      NaN      NaN   \n",
              "\n",
              "             hr  holiday  weekday  workingday  weathersit          temp  \\\n",
              "count   17379.0  17379.0  17379.0     17379.0     17379.0  17379.000000   \n",
              "unique     24.0      2.0      7.0         2.0         4.0           NaN   \n",
              "top        16.0      0.0      6.0         1.0         1.0           NaN   \n",
              "freq      730.0  16879.0   2512.0     11865.0     11413.0           NaN   \n",
              "mean        NaN      NaN      NaN         NaN         NaN      0.496987   \n",
              "min         NaN      NaN      NaN         NaN         NaN      0.020000   \n",
              "25%         NaN      NaN      NaN         NaN         NaN      0.340000   \n",
              "50%         NaN      NaN      NaN         NaN         NaN      0.500000   \n",
              "75%         NaN      NaN      NaN         NaN         NaN      0.660000   \n",
              "max         NaN      NaN      NaN         NaN         NaN      1.000000   \n",
              "std         NaN      NaN      NaN         NaN         NaN      0.192556   \n",
              "\n",
              "               atemp           hum     windspeed        casual    registered  \\\n",
              "count   17379.000000  17379.000000  17379.000000  17379.000000  17379.000000   \n",
              "unique           NaN           NaN           NaN           NaN           NaN   \n",
              "top              NaN           NaN           NaN           NaN           NaN   \n",
              "freq             NaN           NaN           NaN           NaN           NaN   \n",
              "mean        0.475775      0.627229      0.190098     35.676218    153.786869   \n",
              "min         0.000000      0.000000      0.000000      0.000000      0.000000   \n",
              "25%         0.333300      0.480000      0.104500      4.000000     34.000000   \n",
              "50%         0.484800      0.630000      0.194000     17.000000    115.000000   \n",
              "75%         0.621200      0.780000      0.253700     48.000000    220.000000   \n",
              "max         1.000000      1.000000      0.850700    367.000000    886.000000   \n",
              "std         0.171850      0.192930      0.122340     49.305030    151.357286   \n",
              "\n",
              "                 cnt  \n",
              "count   17379.000000  \n",
              "unique           NaN  \n",
              "top              NaN  \n",
              "freq             NaN  \n",
              "mean      189.463088  \n",
              "min         1.000000  \n",
              "25%        40.000000  \n",
              "50%       142.000000  \n",
              "75%       281.000000  \n",
              "max       977.000000  \n",
              "std       181.387599  "
            ]
          },
          "execution_count": 148,
          "metadata": {},
          "output_type": "execute_result"
        }
      ],
      "source": [
        "hour.describe(include = 'all')"
      ]
    },
    {
      "cell_type": "code",
      "execution_count": 149,
      "metadata": {},
      "outputs": [
        {
          "name": "stdout",
          "output_type": "stream",
          "text": [
            "Total Sepeda yang Disewa = 3292679\n",
            "Total Pengguna Terdaftar = 2672662\n",
            "Total Pengguna Biasa = 620017\n"
          ]
        }
      ],
      "source": [
        "# Jumlah total sepeda yang disewa\n",
        "def total_count(hour, column) :\n",
        "    return hour[column].sum()\n",
        "\n",
        "print(\"Total Sepeda yang Disewa =\", total_count(hour, 'cnt'))\n",
        "print(\"Total Pengguna Terdaftar =\", total_count(hour, 'registered'))\n",
        "print(\"Total Pengguna Biasa =\", total_count(hour, 'casual'))"
      ]
    },
    {
      "cell_type": "markdown",
      "metadata": {},
      "source": [
        "**Insight:** Dapat dilihat bahwa total sepeda yang disewa sebanyak 3.292.679 dengan total pengguna terdaftar sebanyak 2.672.662 dan total pengguna biasa sebanyak 620.017."
      ]
    },
    {
      "cell_type": "code",
      "execution_count": 150,
      "metadata": {},
      "outputs": [
        {
          "data": {
            "application/vnd.microsoft.datawrangler.viewer.v0+json": {
              "columns": [
                {
                  "name": "index",
                  "rawType": "int64",
                  "type": "integer"
                },
                {
                  "name": "hr",
                  "rawType": "category",
                  "type": "unknown"
                },
                {
                  "name": "cnt",
                  "rawType": "float64",
                  "type": "float"
                }
              ],
              "conversionMethod": "pd.DataFrame",
              "ref": "45ad8467-badd-4ff9-abc2-209cfdf86812",
              "rows": [
                [
                  "17",
                  "17",
                  "461.45205479452056"
                ],
                [
                  "18",
                  "18",
                  "425.510989010989"
                ],
                [
                  "8",
                  "8",
                  "359.01100412654745"
                ],
                [
                  "16",
                  "16",
                  "311.9835616438356"
                ],
                [
                  "19",
                  "19",
                  "311.52335164835165"
                ],
                [
                  "13",
                  "13",
                  "253.66117969821673"
                ],
                [
                  "12",
                  "12",
                  "253.31593406593407"
                ],
                [
                  "15",
                  "15",
                  "251.2331961591221"
                ],
                [
                  "14",
                  "14",
                  "240.94924554183814"
                ],
                [
                  "20",
                  "20",
                  "226.03021978021977"
                ],
                [
                  "9",
                  "9",
                  "219.30949105914718"
                ],
                [
                  "7",
                  "7",
                  "212.0646492434663"
                ],
                [
                  "11",
                  "11",
                  "208.1430536451169"
                ],
                [
                  "10",
                  "10",
                  "173.6685006877579"
                ],
                [
                  "21",
                  "21",
                  "172.31456043956044"
                ],
                [
                  "22",
                  "22",
                  "131.33516483516485"
                ],
                [
                  "23",
                  "23",
                  "87.83104395604396"
                ],
                [
                  "6",
                  "6",
                  "76.04413793103448"
                ],
                [
                  "0",
                  "0",
                  "53.89807162534435"
                ],
                [
                  "1",
                  "1",
                  "33.3756906077348"
                ],
                [
                  "2",
                  "2",
                  "22.86993006993007"
                ],
                [
                  "5",
                  "5",
                  "19.88981868898187"
                ],
                [
                  "3",
                  "3",
                  "11.727403156384504"
                ],
                [
                  "4",
                  "4",
                  "6.352941176470588"
                ]
              ],
              "shape": {
                "columns": 2,
                "rows": 24
              }
            },
            "text/html": [
              "<div>\n",
              "<style scoped>\n",
              "    .dataframe tbody tr th:only-of-type {\n",
              "        vertical-align: middle;\n",
              "    }\n",
              "\n",
              "    .dataframe tbody tr th {\n",
              "        vertical-align: top;\n",
              "    }\n",
              "\n",
              "    .dataframe thead th {\n",
              "        text-align: right;\n",
              "    }\n",
              "</style>\n",
              "<table border=\"1\" class=\"dataframe\">\n",
              "  <thead>\n",
              "    <tr style=\"text-align: right;\">\n",
              "      <th></th>\n",
              "      <th>hr</th>\n",
              "      <th>cnt</th>\n",
              "    </tr>\n",
              "  </thead>\n",
              "  <tbody>\n",
              "    <tr>\n",
              "      <th>17</th>\n",
              "      <td>17</td>\n",
              "      <td>461.452055</td>\n",
              "    </tr>\n",
              "    <tr>\n",
              "      <th>18</th>\n",
              "      <td>18</td>\n",
              "      <td>425.510989</td>\n",
              "    </tr>\n",
              "    <tr>\n",
              "      <th>8</th>\n",
              "      <td>8</td>\n",
              "      <td>359.011004</td>\n",
              "    </tr>\n",
              "    <tr>\n",
              "      <th>16</th>\n",
              "      <td>16</td>\n",
              "      <td>311.983562</td>\n",
              "    </tr>\n",
              "    <tr>\n",
              "      <th>19</th>\n",
              "      <td>19</td>\n",
              "      <td>311.523352</td>\n",
              "    </tr>\n",
              "    <tr>\n",
              "      <th>13</th>\n",
              "      <td>13</td>\n",
              "      <td>253.661180</td>\n",
              "    </tr>\n",
              "    <tr>\n",
              "      <th>12</th>\n",
              "      <td>12</td>\n",
              "      <td>253.315934</td>\n",
              "    </tr>\n",
              "    <tr>\n",
              "      <th>15</th>\n",
              "      <td>15</td>\n",
              "      <td>251.233196</td>\n",
              "    </tr>\n",
              "    <tr>\n",
              "      <th>14</th>\n",
              "      <td>14</td>\n",
              "      <td>240.949246</td>\n",
              "    </tr>\n",
              "    <tr>\n",
              "      <th>20</th>\n",
              "      <td>20</td>\n",
              "      <td>226.030220</td>\n",
              "    </tr>\n",
              "    <tr>\n",
              "      <th>9</th>\n",
              "      <td>9</td>\n",
              "      <td>219.309491</td>\n",
              "    </tr>\n",
              "    <tr>\n",
              "      <th>7</th>\n",
              "      <td>7</td>\n",
              "      <td>212.064649</td>\n",
              "    </tr>\n",
              "    <tr>\n",
              "      <th>11</th>\n",
              "      <td>11</td>\n",
              "      <td>208.143054</td>\n",
              "    </tr>\n",
              "    <tr>\n",
              "      <th>10</th>\n",
              "      <td>10</td>\n",
              "      <td>173.668501</td>\n",
              "    </tr>\n",
              "    <tr>\n",
              "      <th>21</th>\n",
              "      <td>21</td>\n",
              "      <td>172.314560</td>\n",
              "    </tr>\n",
              "    <tr>\n",
              "      <th>22</th>\n",
              "      <td>22</td>\n",
              "      <td>131.335165</td>\n",
              "    </tr>\n",
              "    <tr>\n",
              "      <th>23</th>\n",
              "      <td>23</td>\n",
              "      <td>87.831044</td>\n",
              "    </tr>\n",
              "    <tr>\n",
              "      <th>6</th>\n",
              "      <td>6</td>\n",
              "      <td>76.044138</td>\n",
              "    </tr>\n",
              "    <tr>\n",
              "      <th>0</th>\n",
              "      <td>0</td>\n",
              "      <td>53.898072</td>\n",
              "    </tr>\n",
              "    <tr>\n",
              "      <th>1</th>\n",
              "      <td>1</td>\n",
              "      <td>33.375691</td>\n",
              "    </tr>\n",
              "    <tr>\n",
              "      <th>2</th>\n",
              "      <td>2</td>\n",
              "      <td>22.869930</td>\n",
              "    </tr>\n",
              "    <tr>\n",
              "      <th>5</th>\n",
              "      <td>5</td>\n",
              "      <td>19.889819</td>\n",
              "    </tr>\n",
              "    <tr>\n",
              "      <th>3</th>\n",
              "      <td>3</td>\n",
              "      <td>11.727403</td>\n",
              "    </tr>\n",
              "    <tr>\n",
              "      <th>4</th>\n",
              "      <td>4</td>\n",
              "      <td>6.352941</td>\n",
              "    </tr>\n",
              "  </tbody>\n",
              "</table>\n",
              "</div>"
            ],
            "text/plain": [
              "    hr         cnt\n",
              "17  17  461.452055\n",
              "18  18  425.510989\n",
              "8    8  359.011004\n",
              "16  16  311.983562\n",
              "19  19  311.523352\n",
              "13  13  253.661180\n",
              "12  12  253.315934\n",
              "15  15  251.233196\n",
              "14  14  240.949246\n",
              "20  20  226.030220\n",
              "9    9  219.309491\n",
              "7    7  212.064649\n",
              "11  11  208.143054\n",
              "10  10  173.668501\n",
              "21  21  172.314560\n",
              "22  22  131.335165\n",
              "23  23   87.831044\n",
              "6    6   76.044138\n",
              "0    0   53.898072\n",
              "1    1   33.375691\n",
              "2    2   22.869930\n",
              "5    5   19.889819\n",
              "3    3   11.727403\n",
              "4    4    6.352941"
            ]
          },
          "execution_count": 150,
          "metadata": {},
          "output_type": "execute_result"
        }
      ],
      "source": [
        "# Persebaran rata-rata jumlah sewa sepeda perjam\n",
        "hour.groupby('hr', observed=False)['cnt'].mean().reset_index().sort_values('cnt', ascending=False)"
      ]
    },
    {
      "cell_type": "markdown",
      "metadata": {},
      "source": [
        "**Insight:** Dapat dilihat bahwa rata-rata jam penyewaan seoeda tertinggi pada pukul 17.00  dan terendah pada pukul 4.00."
      ]
    },
    {
      "cell_type": "code",
      "execution_count": 151,
      "metadata": {},
      "outputs": [
        {
          "data": {
            "application/vnd.microsoft.datawrangler.viewer.v0+json": {
              "columns": [
                {
                  "name": "index",
                  "rawType": "int64",
                  "type": "integer"
                },
                {
                  "name": "workingday",
                  "rawType": "category",
                  "type": "unknown"
                },
                {
                  "name": "cnt",
                  "rawType": "float64",
                  "type": "float"
                }
              ],
              "conversionMethod": "pd.DataFrame",
              "ref": "3a645759-de56-48e3-a883-8f05f9c0f79a",
              "rows": [
                [
                  "1",
                  "1",
                  "193.20775389801938"
                ],
                [
                  "0",
                  "0",
                  "181.40533188248097"
                ]
              ],
              "shape": {
                "columns": 2,
                "rows": 2
              }
            },
            "text/html": [
              "<div>\n",
              "<style scoped>\n",
              "    .dataframe tbody tr th:only-of-type {\n",
              "        vertical-align: middle;\n",
              "    }\n",
              "\n",
              "    .dataframe tbody tr th {\n",
              "        vertical-align: top;\n",
              "    }\n",
              "\n",
              "    .dataframe thead th {\n",
              "        text-align: right;\n",
              "    }\n",
              "</style>\n",
              "<table border=\"1\" class=\"dataframe\">\n",
              "  <thead>\n",
              "    <tr style=\"text-align: right;\">\n",
              "      <th></th>\n",
              "      <th>workingday</th>\n",
              "      <th>cnt</th>\n",
              "    </tr>\n",
              "  </thead>\n",
              "  <tbody>\n",
              "    <tr>\n",
              "      <th>1</th>\n",
              "      <td>1</td>\n",
              "      <td>193.207754</td>\n",
              "    </tr>\n",
              "    <tr>\n",
              "      <th>0</th>\n",
              "      <td>0</td>\n",
              "      <td>181.405332</td>\n",
              "    </tr>\n",
              "  </tbody>\n",
              "</table>\n",
              "</div>"
            ],
            "text/plain": [
              "  workingday         cnt\n",
              "1          1  193.207754\n",
              "0          0  181.405332"
            ]
          },
          "execution_count": 151,
          "metadata": {},
          "output_type": "execute_result"
        }
      ],
      "source": [
        "# Rata-rata jumlah sewa berdasarkan workingday\n",
        "hour.groupby('workingday', observed=False)['cnt'].mean().reset_index().sort_values('cnt', ascending=False)"
      ]
    },
    {
      "cell_type": "markdown",
      "metadata": {},
      "source": [
        "**Insight:** Dapat dilihat bahwa rata-rata jumlah sewa sepeda pada hari kerja(1) lebih tinggi dibandingkan pada weekend/holiday(0)."
      ]
    },
    {
      "cell_type": "code",
      "execution_count": 152,
      "metadata": {},
      "outputs": [
        {
          "data": {
            "application/vnd.microsoft.datawrangler.viewer.v0+json": {
              "columns": [
                {
                  "name": "index",
                  "rawType": "int64",
                  "type": "integer"
                },
                {
                  "name": "('weathersit', '')",
                  "rawType": "category",
                  "type": "unknown"
                },
                {
                  "name": "('cnt', 'mean')",
                  "rawType": "float64",
                  "type": "float"
                },
                {
                  "name": "('cnt', 'max')",
                  "rawType": "int64",
                  "type": "integer"
                },
                {
                  "name": "('cnt', 'min')",
                  "rawType": "int64",
                  "type": "integer"
                }
              ],
              "conversionMethod": "pd.DataFrame",
              "ref": "568166fb-9b6e-4f18-88cb-ec68bebca6f9",
              "rows": [
                [
                  "0",
                  "1",
                  "204.8692718829405",
                  "977",
                  "1"
                ],
                [
                  "1",
                  "2",
                  "175.16549295774647",
                  "957",
                  "1"
                ],
                [
                  "2",
                  "3",
                  "111.57928118393235",
                  "891",
                  "1"
                ],
                [
                  "3",
                  "4",
                  "74.33333333333333",
                  "164",
                  "23"
                ]
              ],
              "shape": {
                "columns": 4,
                "rows": 4
              }
            },
            "text/html": [
              "<div>\n",
              "<style scoped>\n",
              "    .dataframe tbody tr th:only-of-type {\n",
              "        vertical-align: middle;\n",
              "    }\n",
              "\n",
              "    .dataframe tbody tr th {\n",
              "        vertical-align: top;\n",
              "    }\n",
              "\n",
              "    .dataframe thead tr th {\n",
              "        text-align: left;\n",
              "    }\n",
              "</style>\n",
              "<table border=\"1\" class=\"dataframe\">\n",
              "  <thead>\n",
              "    <tr>\n",
              "      <th></th>\n",
              "      <th>weathersit</th>\n",
              "      <th colspan=\"3\" halign=\"left\">cnt</th>\n",
              "    </tr>\n",
              "    <tr>\n",
              "      <th></th>\n",
              "      <th></th>\n",
              "      <th>mean</th>\n",
              "      <th>max</th>\n",
              "      <th>min</th>\n",
              "    </tr>\n",
              "  </thead>\n",
              "  <tbody>\n",
              "    <tr>\n",
              "      <th>0</th>\n",
              "      <td>1</td>\n",
              "      <td>204.869272</td>\n",
              "      <td>977</td>\n",
              "      <td>1</td>\n",
              "    </tr>\n",
              "    <tr>\n",
              "      <th>1</th>\n",
              "      <td>2</td>\n",
              "      <td>175.165493</td>\n",
              "      <td>957</td>\n",
              "      <td>1</td>\n",
              "    </tr>\n",
              "    <tr>\n",
              "      <th>2</th>\n",
              "      <td>3</td>\n",
              "      <td>111.579281</td>\n",
              "      <td>891</td>\n",
              "      <td>1</td>\n",
              "    </tr>\n",
              "    <tr>\n",
              "      <th>3</th>\n",
              "      <td>4</td>\n",
              "      <td>74.333333</td>\n",
              "      <td>164</td>\n",
              "      <td>23</td>\n",
              "    </tr>\n",
              "  </tbody>\n",
              "</table>\n",
              "</div>"
            ],
            "text/plain": [
              "  weathersit         cnt         \n",
              "                    mean  max min\n",
              "0          1  204.869272  977   1\n",
              "1          2  175.165493  957   1\n",
              "2          3  111.579281  891   1\n",
              "3          4   74.333333  164  23"
            ]
          },
          "execution_count": 152,
          "metadata": {},
          "output_type": "execute_result"
        }
      ],
      "source": [
        "# Pengelompokkan penyewa sepeda berdasarkan cuaca\n",
        "hour.groupby('weathersit', observed=False).agg({\n",
        "    'cnt': ['mean', 'max', 'min']\n",
        "}).reset_index()"
      ]
    },
    {
      "cell_type": "markdown",
      "metadata": {},
      "source": [
        "**Insight:** Dapat dilihat bahwa saat cuaca Clear(1), rata-rata penyewaan sepeda lebih tinggi. Dan saat heavy rain(4), rata-rata penyewaan sepeda jauh lebih sedikit."
      ]
    },
    {
      "cell_type": "code",
      "execution_count": 153,
      "metadata": {},
      "outputs": [
        {
          "data": {
            "application/vnd.microsoft.datawrangler.viewer.v0+json": {
              "columns": [
                {
                  "name": "index",
                  "rawType": "int64",
                  "type": "integer"
                },
                {
                  "name": "('season', '')",
                  "rawType": "category",
                  "type": "unknown"
                },
                {
                  "name": "('cnt', 'mean')",
                  "rawType": "float64",
                  "type": "float"
                },
                {
                  "name": "('cnt', 'max')",
                  "rawType": "int64",
                  "type": "integer"
                },
                {
                  "name": "('cnt', 'min')",
                  "rawType": "int64",
                  "type": "integer"
                },
                {
                  "name": "('casual', 'mean')",
                  "rawType": "float64",
                  "type": "float"
                },
                {
                  "name": "('casual', 'max')",
                  "rawType": "int64",
                  "type": "integer"
                },
                {
                  "name": "('casual', 'min')",
                  "rawType": "int64",
                  "type": "integer"
                },
                {
                  "name": "('registered', 'mean')",
                  "rawType": "float64",
                  "type": "float"
                },
                {
                  "name": "('registered', 'max')",
                  "rawType": "int64",
                  "type": "integer"
                },
                {
                  "name": "('registered', 'min')",
                  "rawType": "int64",
                  "type": "integer"
                }
              ],
              "conversionMethod": "pd.DataFrame",
              "ref": "a817d403-88dc-4f28-a950-83cfdc593c55",
              "rows": [
                [
                  "0",
                  "1",
                  "111.11456859971712",
                  "801",
                  "1",
                  "14.29090051862329",
                  "367",
                  "0",
                  "96.82366808109383",
                  "681",
                  "0"
                ],
                [
                  "1",
                  "2",
                  "208.34406894987526",
                  "957",
                  "1",
                  "46.160580630528464",
                  "361",
                  "0",
                  "162.1834883193468",
                  "782",
                  "0"
                ],
                [
                  "2",
                  "3",
                  "236.01623665480426",
                  "977",
                  "1",
                  "50.28714412811388",
                  "350",
                  "0",
                  "185.72909252669038",
                  "886",
                  "0"
                ],
                [
                  "3",
                  "4",
                  "198.86885633270322",
                  "967",
                  "1",
                  "30.666824196597354",
                  "362",
                  "0",
                  "168.20203213610586",
                  "876",
                  "0"
                ]
              ],
              "shape": {
                "columns": 10,
                "rows": 4
              }
            },
            "text/html": [
              "<div>\n",
              "<style scoped>\n",
              "    .dataframe tbody tr th:only-of-type {\n",
              "        vertical-align: middle;\n",
              "    }\n",
              "\n",
              "    .dataframe tbody tr th {\n",
              "        vertical-align: top;\n",
              "    }\n",
              "\n",
              "    .dataframe thead tr th {\n",
              "        text-align: left;\n",
              "    }\n",
              "</style>\n",
              "<table border=\"1\" class=\"dataframe\">\n",
              "  <thead>\n",
              "    <tr>\n",
              "      <th></th>\n",
              "      <th>season</th>\n",
              "      <th colspan=\"3\" halign=\"left\">cnt</th>\n",
              "      <th colspan=\"3\" halign=\"left\">casual</th>\n",
              "      <th colspan=\"3\" halign=\"left\">registered</th>\n",
              "    </tr>\n",
              "    <tr>\n",
              "      <th></th>\n",
              "      <th></th>\n",
              "      <th>mean</th>\n",
              "      <th>max</th>\n",
              "      <th>min</th>\n",
              "      <th>mean</th>\n",
              "      <th>max</th>\n",
              "      <th>min</th>\n",
              "      <th>mean</th>\n",
              "      <th>max</th>\n",
              "      <th>min</th>\n",
              "    </tr>\n",
              "  </thead>\n",
              "  <tbody>\n",
              "    <tr>\n",
              "      <th>0</th>\n",
              "      <td>1</td>\n",
              "      <td>111.114569</td>\n",
              "      <td>801</td>\n",
              "      <td>1</td>\n",
              "      <td>14.290901</td>\n",
              "      <td>367</td>\n",
              "      <td>0</td>\n",
              "      <td>96.823668</td>\n",
              "      <td>681</td>\n",
              "      <td>0</td>\n",
              "    </tr>\n",
              "    <tr>\n",
              "      <th>1</th>\n",
              "      <td>2</td>\n",
              "      <td>208.344069</td>\n",
              "      <td>957</td>\n",
              "      <td>1</td>\n",
              "      <td>46.160581</td>\n",
              "      <td>361</td>\n",
              "      <td>0</td>\n",
              "      <td>162.183488</td>\n",
              "      <td>782</td>\n",
              "      <td>0</td>\n",
              "    </tr>\n",
              "    <tr>\n",
              "      <th>2</th>\n",
              "      <td>3</td>\n",
              "      <td>236.016237</td>\n",
              "      <td>977</td>\n",
              "      <td>1</td>\n",
              "      <td>50.287144</td>\n",
              "      <td>350</td>\n",
              "      <td>0</td>\n",
              "      <td>185.729093</td>\n",
              "      <td>886</td>\n",
              "      <td>0</td>\n",
              "    </tr>\n",
              "    <tr>\n",
              "      <th>3</th>\n",
              "      <td>4</td>\n",
              "      <td>198.868856</td>\n",
              "      <td>967</td>\n",
              "      <td>1</td>\n",
              "      <td>30.666824</td>\n",
              "      <td>362</td>\n",
              "      <td>0</td>\n",
              "      <td>168.202032</td>\n",
              "      <td>876</td>\n",
              "      <td>0</td>\n",
              "    </tr>\n",
              "  </tbody>\n",
              "</table>\n",
              "</div>"
            ],
            "text/plain": [
              "  season         cnt              casual           registered         \n",
              "                mean  max min       mean  max min        mean  max min\n",
              "0      1  111.114569  801   1  14.290901  367   0   96.823668  681   0\n",
              "1      2  208.344069  957   1  46.160581  361   0  162.183488  782   0\n",
              "2      3  236.016237  977   1  50.287144  350   0  185.729093  886   0\n",
              "3      4  198.868856  967   1  30.666824  362   0  168.202032  876   0"
            ]
          },
          "execution_count": 153,
          "metadata": {},
          "output_type": "execute_result"
        }
      ],
      "source": [
        "# Pengelompokkan penyewa sepeda berdasarkan musim\n",
        "hour.groupby('season', observed=False).agg({\n",
        "    'cnt': ['mean', 'max', 'min'],\n",
        "    'casual': ['mean', 'max', 'min'],\n",
        "    'registered': ['mean', 'max', 'min']\n",
        "}).reset_index()"
      ]
    },
    {
      "cell_type": "markdown",
      "metadata": {},
      "source": [
        "**Insight:** Dapat dilihat bahwa rata-rata penyewaan sepeda terbanyak terjadi pada musim Fall(3) dan rata-rata penyewaan sepeda paling sedikit terjadi pada musim Springer(1)."
      ]
    },
    {
      "cell_type": "code",
      "execution_count": 154,
      "metadata": {},
      "outputs": [
        {
          "data": {
            "application/vnd.microsoft.datawrangler.viewer.v0+json": {
              "columns": [
                {
                  "name": "index",
                  "rawType": "int64",
                  "type": "integer"
                },
                {
                  "name": "('yr', '')",
                  "rawType": "category",
                  "type": "unknown"
                },
                {
                  "name": "('mnth', '')",
                  "rawType": "category",
                  "type": "unknown"
                },
                {
                  "name": "('cnt', 'mean')",
                  "rawType": "float64",
                  "type": "float"
                },
                {
                  "name": "('cnt', 'max')",
                  "rawType": "int64",
                  "type": "integer"
                },
                {
                  "name": "('cnt', 'min')",
                  "rawType": "int64",
                  "type": "integer"
                },
                {
                  "name": "('casual', 'mean')",
                  "rawType": "float64",
                  "type": "float"
                },
                {
                  "name": "('casual', 'max')",
                  "rawType": "int64",
                  "type": "integer"
                },
                {
                  "name": "('casual', 'min')",
                  "rawType": "int64",
                  "type": "integer"
                },
                {
                  "name": "('registered', 'mean')",
                  "rawType": "float64",
                  "type": "float"
                },
                {
                  "name": "('registered', 'max')",
                  "rawType": "int64",
                  "type": "integer"
                },
                {
                  "name": "('registered', 'min')",
                  "rawType": "int64",
                  "type": "integer"
                }
              ],
              "conversionMethod": "pd.DataFrame",
              "ref": "622c118b-6e3e-474b-88a3-36d90e68d1d4",
              "rows": [
                [
                  "0",
                  "0",
                  "1",
                  "55.50726744186046",
                  "249",
                  "1",
                  "4.46656976744186",
                  "47",
                  "0",
                  "51.0406976744186",
                  "247",
                  "0"
                ],
                [
                  "1",
                  "0",
                  "2",
                  "74.29121725731895",
                  "327",
                  "1",
                  "9.617873651771957",
                  "108",
                  "0",
                  "64.67334360554699",
                  "275",
                  "0"
                ],
                [
                  "2",
                  "0",
                  "3",
                  "87.73287671232876",
                  "336",
                  "1",
                  "17.56986301369863",
                  "175",
                  "0",
                  "70.16301369863014",
                  "312",
                  "0"
                ],
                [
                  "3",
                  "0",
                  "4",
                  "131.9471488178025",
                  "530",
                  "1",
                  "31.079276773296243",
                  "240",
                  "0",
                  "100.86787204450626",
                  "486",
                  "0"
                ],
                [
                  "4",
                  "0",
                  "5",
                  "182.55510752688173",
                  "611",
                  "1",
                  "41.733870967741936",
                  "237",
                  "0",
                  "140.82123655913978",
                  "540",
                  "1"
                ],
                [
                  "5",
                  "0",
                  "6",
                  "199.32222222222222",
                  "638",
                  "1",
                  "42.516666666666666",
                  "210",
                  "0",
                  "156.80555555555554",
                  "555",
                  "0"
                ],
                [
                  "6",
                  "0",
                  "7",
                  "189.9744623655914",
                  "596",
                  "1",
                  "48.994623655913976",
                  "248",
                  "0",
                  "140.9798387096774",
                  "517",
                  "1"
                ],
                [
                  "7",
                  "0",
                  "8",
                  "186.99179206566347",
                  "651",
                  "1",
                  "39.45554035567716",
                  "196",
                  "0",
                  "147.53625170998632",
                  "549",
                  "0"
                ],
                [
                  "8",
                  "0",
                  "9",
                  "177.70990237099025",
                  "628",
                  "1",
                  "37.02231520223152",
                  "245",
                  "0",
                  "140.6875871687587",
                  "567",
                  "0"
                ],
                [
                  "9",
                  "0",
                  "10",
                  "166.2328398384926",
                  "625",
                  "1",
                  "33.94616419919247",
                  "272",
                  "0",
                  "132.28667563930014",
                  "553",
                  "1"
                ],
                [
                  "10",
                  "0",
                  "11",
                  "142.09596662030597",
                  "553",
                  "1",
                  "21.688456189151598",
                  "191",
                  "0",
                  "120.40751043115438",
                  "523",
                  "1"
                ],
                [
                  "11",
                  "0",
                  "12",
                  "117.84480431848853",
                  "477",
                  "1",
                  "11.40080971659919",
                  "115",
                  "0",
                  "106.44399460188934",
                  "462",
                  "0"
                ],
                [
                  "12",
                  "1",
                  "1",
                  "130.5587044534413",
                  "559",
                  "1",
                  "12.10391363022942",
                  "156",
                  "0",
                  "118.45479082321188",
                  "518",
                  "1"
                ],
                [
                  "13",
                  "1",
                  "2",
                  "149.04190751445086",
                  "610",
                  "1",
                  "12.602601156069364",
                  "229",
                  "0",
                  "136.43930635838151",
                  "567",
                  "1"
                ],
                [
                  "14",
                  "1",
                  "3",
                  "221.90444145356662",
                  "957",
                  "1",
                  "42.55450874831763",
                  "367",
                  "0",
                  "179.349932705249",
                  "693",
                  "0"
                ],
                [
                  "15",
                  "1",
                  "4",
                  "242.6518105849582",
                  "822",
                  "1",
                  "53.559888579387184",
                  "355",
                  "0",
                  "189.09192200557104",
                  "697",
                  "1"
                ],
                [
                  "16",
                  "1",
                  "5",
                  "263.25940860215053",
                  "873",
                  "1",
                  "59.45564516129032",
                  "361",
                  "0",
                  "203.80376344086022",
                  "770",
                  "1"
                ],
                [
                  "17",
                  "1",
                  "6",
                  "281.7083333333333",
                  "900",
                  "4",
                  "60.13055555555555",
                  "297",
                  "0",
                  "221.57777777777778",
                  "796",
                  "3"
                ],
                [
                  "18",
                  "1",
                  "7",
                  "273.6653225806452",
                  "913",
                  "2",
                  "56.05510752688172",
                  "269",
                  "0",
                  "217.61021505376345",
                  "790",
                  "1"
                ],
                [
                  "19",
                  "1",
                  "8",
                  "288.31048387096774",
                  "941",
                  "3",
                  "58.060483870967744",
                  "289",
                  "0",
                  "230.25",
                  "811",
                  "2"
                ],
                [
                  "20",
                  "1",
                  "9",
                  "303.5736111111111",
                  "977",
                  "3",
                  "60.80277777777778",
                  "350",
                  "0",
                  "242.77083333333334",
                  "886",
                  "3"
                ],
                [
                  "21",
                  "1",
                  "10",
                  "280.84887005649716",
                  "963",
                  "1",
                  "48.782485875706215",
                  "362",
                  "0",
                  "232.06638418079095",
                  "876",
                  "1"
                ],
                [
                  "22",
                  "1",
                  "11",
                  "212.62395543175487",
                  "729",
                  "1",
                  "29.26044568245125",
                  "304",
                  "0",
                  "183.36350974930363",
                  "709",
                  "0"
                ],
                [
                  "23",
                  "1",
                  "12",
                  "166.72911051212938",
                  "759",
                  "1",
                  "17.850404312668463",
                  "167",
                  "0",
                  "148.8787061994609",
                  "737",
                  "1"
                ]
              ],
              "shape": {
                "columns": 11,
                "rows": 24
              }
            },
            "text/html": [
              "<div>\n",
              "<style scoped>\n",
              "    .dataframe tbody tr th:only-of-type {\n",
              "        vertical-align: middle;\n",
              "    }\n",
              "\n",
              "    .dataframe tbody tr th {\n",
              "        vertical-align: top;\n",
              "    }\n",
              "\n",
              "    .dataframe thead tr th {\n",
              "        text-align: left;\n",
              "    }\n",
              "</style>\n",
              "<table border=\"1\" class=\"dataframe\">\n",
              "  <thead>\n",
              "    <tr>\n",
              "      <th></th>\n",
              "      <th>yr</th>\n",
              "      <th>mnth</th>\n",
              "      <th colspan=\"3\" halign=\"left\">cnt</th>\n",
              "      <th colspan=\"3\" halign=\"left\">casual</th>\n",
              "      <th colspan=\"3\" halign=\"left\">registered</th>\n",
              "    </tr>\n",
              "    <tr>\n",
              "      <th></th>\n",
              "      <th></th>\n",
              "      <th></th>\n",
              "      <th>mean</th>\n",
              "      <th>max</th>\n",
              "      <th>min</th>\n",
              "      <th>mean</th>\n",
              "      <th>max</th>\n",
              "      <th>min</th>\n",
              "      <th>mean</th>\n",
              "      <th>max</th>\n",
              "      <th>min</th>\n",
              "    </tr>\n",
              "  </thead>\n",
              "  <tbody>\n",
              "    <tr>\n",
              "      <th>0</th>\n",
              "      <td>0</td>\n",
              "      <td>1</td>\n",
              "      <td>55.507267</td>\n",
              "      <td>249</td>\n",
              "      <td>1</td>\n",
              "      <td>4.466570</td>\n",
              "      <td>47</td>\n",
              "      <td>0</td>\n",
              "      <td>51.040698</td>\n",
              "      <td>247</td>\n",
              "      <td>0</td>\n",
              "    </tr>\n",
              "    <tr>\n",
              "      <th>1</th>\n",
              "      <td>0</td>\n",
              "      <td>2</td>\n",
              "      <td>74.291217</td>\n",
              "      <td>327</td>\n",
              "      <td>1</td>\n",
              "      <td>9.617874</td>\n",
              "      <td>108</td>\n",
              "      <td>0</td>\n",
              "      <td>64.673344</td>\n",
              "      <td>275</td>\n",
              "      <td>0</td>\n",
              "    </tr>\n",
              "    <tr>\n",
              "      <th>2</th>\n",
              "      <td>0</td>\n",
              "      <td>3</td>\n",
              "      <td>87.732877</td>\n",
              "      <td>336</td>\n",
              "      <td>1</td>\n",
              "      <td>17.569863</td>\n",
              "      <td>175</td>\n",
              "      <td>0</td>\n",
              "      <td>70.163014</td>\n",
              "      <td>312</td>\n",
              "      <td>0</td>\n",
              "    </tr>\n",
              "    <tr>\n",
              "      <th>3</th>\n",
              "      <td>0</td>\n",
              "      <td>4</td>\n",
              "      <td>131.947149</td>\n",
              "      <td>530</td>\n",
              "      <td>1</td>\n",
              "      <td>31.079277</td>\n",
              "      <td>240</td>\n",
              "      <td>0</td>\n",
              "      <td>100.867872</td>\n",
              "      <td>486</td>\n",
              "      <td>0</td>\n",
              "    </tr>\n",
              "    <tr>\n",
              "      <th>4</th>\n",
              "      <td>0</td>\n",
              "      <td>5</td>\n",
              "      <td>182.555108</td>\n",
              "      <td>611</td>\n",
              "      <td>1</td>\n",
              "      <td>41.733871</td>\n",
              "      <td>237</td>\n",
              "      <td>0</td>\n",
              "      <td>140.821237</td>\n",
              "      <td>540</td>\n",
              "      <td>1</td>\n",
              "    </tr>\n",
              "    <tr>\n",
              "      <th>5</th>\n",
              "      <td>0</td>\n",
              "      <td>6</td>\n",
              "      <td>199.322222</td>\n",
              "      <td>638</td>\n",
              "      <td>1</td>\n",
              "      <td>42.516667</td>\n",
              "      <td>210</td>\n",
              "      <td>0</td>\n",
              "      <td>156.805556</td>\n",
              "      <td>555</td>\n",
              "      <td>0</td>\n",
              "    </tr>\n",
              "    <tr>\n",
              "      <th>6</th>\n",
              "      <td>0</td>\n",
              "      <td>7</td>\n",
              "      <td>189.974462</td>\n",
              "      <td>596</td>\n",
              "      <td>1</td>\n",
              "      <td>48.994624</td>\n",
              "      <td>248</td>\n",
              "      <td>0</td>\n",
              "      <td>140.979839</td>\n",
              "      <td>517</td>\n",
              "      <td>1</td>\n",
              "    </tr>\n",
              "    <tr>\n",
              "      <th>7</th>\n",
              "      <td>0</td>\n",
              "      <td>8</td>\n",
              "      <td>186.991792</td>\n",
              "      <td>651</td>\n",
              "      <td>1</td>\n",
              "      <td>39.455540</td>\n",
              "      <td>196</td>\n",
              "      <td>0</td>\n",
              "      <td>147.536252</td>\n",
              "      <td>549</td>\n",
              "      <td>0</td>\n",
              "    </tr>\n",
              "    <tr>\n",
              "      <th>8</th>\n",
              "      <td>0</td>\n",
              "      <td>9</td>\n",
              "      <td>177.709902</td>\n",
              "      <td>628</td>\n",
              "      <td>1</td>\n",
              "      <td>37.022315</td>\n",
              "      <td>245</td>\n",
              "      <td>0</td>\n",
              "      <td>140.687587</td>\n",
              "      <td>567</td>\n",
              "      <td>0</td>\n",
              "    </tr>\n",
              "    <tr>\n",
              "      <th>9</th>\n",
              "      <td>0</td>\n",
              "      <td>10</td>\n",
              "      <td>166.232840</td>\n",
              "      <td>625</td>\n",
              "      <td>1</td>\n",
              "      <td>33.946164</td>\n",
              "      <td>272</td>\n",
              "      <td>0</td>\n",
              "      <td>132.286676</td>\n",
              "      <td>553</td>\n",
              "      <td>1</td>\n",
              "    </tr>\n",
              "    <tr>\n",
              "      <th>10</th>\n",
              "      <td>0</td>\n",
              "      <td>11</td>\n",
              "      <td>142.095967</td>\n",
              "      <td>553</td>\n",
              "      <td>1</td>\n",
              "      <td>21.688456</td>\n",
              "      <td>191</td>\n",
              "      <td>0</td>\n",
              "      <td>120.407510</td>\n",
              "      <td>523</td>\n",
              "      <td>1</td>\n",
              "    </tr>\n",
              "    <tr>\n",
              "      <th>11</th>\n",
              "      <td>0</td>\n",
              "      <td>12</td>\n",
              "      <td>117.844804</td>\n",
              "      <td>477</td>\n",
              "      <td>1</td>\n",
              "      <td>11.400810</td>\n",
              "      <td>115</td>\n",
              "      <td>0</td>\n",
              "      <td>106.443995</td>\n",
              "      <td>462</td>\n",
              "      <td>0</td>\n",
              "    </tr>\n",
              "    <tr>\n",
              "      <th>12</th>\n",
              "      <td>1</td>\n",
              "      <td>1</td>\n",
              "      <td>130.558704</td>\n",
              "      <td>559</td>\n",
              "      <td>1</td>\n",
              "      <td>12.103914</td>\n",
              "      <td>156</td>\n",
              "      <td>0</td>\n",
              "      <td>118.454791</td>\n",
              "      <td>518</td>\n",
              "      <td>1</td>\n",
              "    </tr>\n",
              "    <tr>\n",
              "      <th>13</th>\n",
              "      <td>1</td>\n",
              "      <td>2</td>\n",
              "      <td>149.041908</td>\n",
              "      <td>610</td>\n",
              "      <td>1</td>\n",
              "      <td>12.602601</td>\n",
              "      <td>229</td>\n",
              "      <td>0</td>\n",
              "      <td>136.439306</td>\n",
              "      <td>567</td>\n",
              "      <td>1</td>\n",
              "    </tr>\n",
              "    <tr>\n",
              "      <th>14</th>\n",
              "      <td>1</td>\n",
              "      <td>3</td>\n",
              "      <td>221.904441</td>\n",
              "      <td>957</td>\n",
              "      <td>1</td>\n",
              "      <td>42.554509</td>\n",
              "      <td>367</td>\n",
              "      <td>0</td>\n",
              "      <td>179.349933</td>\n",
              "      <td>693</td>\n",
              "      <td>0</td>\n",
              "    </tr>\n",
              "    <tr>\n",
              "      <th>15</th>\n",
              "      <td>1</td>\n",
              "      <td>4</td>\n",
              "      <td>242.651811</td>\n",
              "      <td>822</td>\n",
              "      <td>1</td>\n",
              "      <td>53.559889</td>\n",
              "      <td>355</td>\n",
              "      <td>0</td>\n",
              "      <td>189.091922</td>\n",
              "      <td>697</td>\n",
              "      <td>1</td>\n",
              "    </tr>\n",
              "    <tr>\n",
              "      <th>16</th>\n",
              "      <td>1</td>\n",
              "      <td>5</td>\n",
              "      <td>263.259409</td>\n",
              "      <td>873</td>\n",
              "      <td>1</td>\n",
              "      <td>59.455645</td>\n",
              "      <td>361</td>\n",
              "      <td>0</td>\n",
              "      <td>203.803763</td>\n",
              "      <td>770</td>\n",
              "      <td>1</td>\n",
              "    </tr>\n",
              "    <tr>\n",
              "      <th>17</th>\n",
              "      <td>1</td>\n",
              "      <td>6</td>\n",
              "      <td>281.708333</td>\n",
              "      <td>900</td>\n",
              "      <td>4</td>\n",
              "      <td>60.130556</td>\n",
              "      <td>297</td>\n",
              "      <td>0</td>\n",
              "      <td>221.577778</td>\n",
              "      <td>796</td>\n",
              "      <td>3</td>\n",
              "    </tr>\n",
              "    <tr>\n",
              "      <th>18</th>\n",
              "      <td>1</td>\n",
              "      <td>7</td>\n",
              "      <td>273.665323</td>\n",
              "      <td>913</td>\n",
              "      <td>2</td>\n",
              "      <td>56.055108</td>\n",
              "      <td>269</td>\n",
              "      <td>0</td>\n",
              "      <td>217.610215</td>\n",
              "      <td>790</td>\n",
              "      <td>1</td>\n",
              "    </tr>\n",
              "    <tr>\n",
              "      <th>19</th>\n",
              "      <td>1</td>\n",
              "      <td>8</td>\n",
              "      <td>288.310484</td>\n",
              "      <td>941</td>\n",
              "      <td>3</td>\n",
              "      <td>58.060484</td>\n",
              "      <td>289</td>\n",
              "      <td>0</td>\n",
              "      <td>230.250000</td>\n",
              "      <td>811</td>\n",
              "      <td>2</td>\n",
              "    </tr>\n",
              "    <tr>\n",
              "      <th>20</th>\n",
              "      <td>1</td>\n",
              "      <td>9</td>\n",
              "      <td>303.573611</td>\n",
              "      <td>977</td>\n",
              "      <td>3</td>\n",
              "      <td>60.802778</td>\n",
              "      <td>350</td>\n",
              "      <td>0</td>\n",
              "      <td>242.770833</td>\n",
              "      <td>886</td>\n",
              "      <td>3</td>\n",
              "    </tr>\n",
              "    <tr>\n",
              "      <th>21</th>\n",
              "      <td>1</td>\n",
              "      <td>10</td>\n",
              "      <td>280.848870</td>\n",
              "      <td>963</td>\n",
              "      <td>1</td>\n",
              "      <td>48.782486</td>\n",
              "      <td>362</td>\n",
              "      <td>0</td>\n",
              "      <td>232.066384</td>\n",
              "      <td>876</td>\n",
              "      <td>1</td>\n",
              "    </tr>\n",
              "    <tr>\n",
              "      <th>22</th>\n",
              "      <td>1</td>\n",
              "      <td>11</td>\n",
              "      <td>212.623955</td>\n",
              "      <td>729</td>\n",
              "      <td>1</td>\n",
              "      <td>29.260446</td>\n",
              "      <td>304</td>\n",
              "      <td>0</td>\n",
              "      <td>183.363510</td>\n",
              "      <td>709</td>\n",
              "      <td>0</td>\n",
              "    </tr>\n",
              "    <tr>\n",
              "      <th>23</th>\n",
              "      <td>1</td>\n",
              "      <td>12</td>\n",
              "      <td>166.729111</td>\n",
              "      <td>759</td>\n",
              "      <td>1</td>\n",
              "      <td>17.850404</td>\n",
              "      <td>167</td>\n",
              "      <td>0</td>\n",
              "      <td>148.878706</td>\n",
              "      <td>737</td>\n",
              "      <td>1</td>\n",
              "    </tr>\n",
              "  </tbody>\n",
              "</table>\n",
              "</div>"
            ],
            "text/plain": [
              "   yr mnth         cnt              casual           registered         \n",
              "                  mean  max min       mean  max min        mean  max min\n",
              "0   0    1   55.507267  249   1   4.466570   47   0   51.040698  247   0\n",
              "1   0    2   74.291217  327   1   9.617874  108   0   64.673344  275   0\n",
              "2   0    3   87.732877  336   1  17.569863  175   0   70.163014  312   0\n",
              "3   0    4  131.947149  530   1  31.079277  240   0  100.867872  486   0\n",
              "4   0    5  182.555108  611   1  41.733871  237   0  140.821237  540   1\n",
              "5   0    6  199.322222  638   1  42.516667  210   0  156.805556  555   0\n",
              "6   0    7  189.974462  596   1  48.994624  248   0  140.979839  517   1\n",
              "7   0    8  186.991792  651   1  39.455540  196   0  147.536252  549   0\n",
              "8   0    9  177.709902  628   1  37.022315  245   0  140.687587  567   0\n",
              "9   0   10  166.232840  625   1  33.946164  272   0  132.286676  553   1\n",
              "10  0   11  142.095967  553   1  21.688456  191   0  120.407510  523   1\n",
              "11  0   12  117.844804  477   1  11.400810  115   0  106.443995  462   0\n",
              "12  1    1  130.558704  559   1  12.103914  156   0  118.454791  518   1\n",
              "13  1    2  149.041908  610   1  12.602601  229   0  136.439306  567   1\n",
              "14  1    3  221.904441  957   1  42.554509  367   0  179.349933  693   0\n",
              "15  1    4  242.651811  822   1  53.559889  355   0  189.091922  697   1\n",
              "16  1    5  263.259409  873   1  59.455645  361   0  203.803763  770   1\n",
              "17  1    6  281.708333  900   4  60.130556  297   0  221.577778  796   3\n",
              "18  1    7  273.665323  913   2  56.055108  269   0  217.610215  790   1\n",
              "19  1    8  288.310484  941   3  58.060484  289   0  230.250000  811   2\n",
              "20  1    9  303.573611  977   3  60.802778  350   0  242.770833  886   3\n",
              "21  1   10  280.848870  963   1  48.782486  362   0  232.066384  876   1\n",
              "22  1   11  212.623955  729   1  29.260446  304   0  183.363510  709   0\n",
              "23  1   12  166.729111  759   1  17.850404  167   0  148.878706  737   1"
            ]
          },
          "execution_count": 154,
          "metadata": {},
          "output_type": "execute_result"
        }
      ],
      "source": [
        "# Pola penyewa sepeda berdasarkan bulan\n",
        "hour.groupby(['yr', 'mnth'], observed=False).agg({\n",
        "    'cnt': ['mean', 'max', 'min'],\n",
        "    'casual': ['mean', 'max', 'min'],\n",
        "    'registered': ['mean', 'max', 'min']\n",
        "}).reset_index()"
      ]
    },
    {
      "cell_type": "markdown",
      "metadata": {},
      "source": [
        "**Insight:** Dapat dilihat bahwa bulan September(9) tahun 2012(1) merupakan bulan penyewaan sepeda tertinggi."
      ]
    },
    {
      "cell_type": "code",
      "execution_count": 155,
      "metadata": {},
      "outputs": [
        {
          "data": {
            "application/vnd.microsoft.datawrangler.viewer.v0+json": {
              "columns": [
                {
                  "name": "index",
                  "rawType": "int64",
                  "type": "integer"
                },
                {
                  "name": "('weekday', '')",
                  "rawType": "category",
                  "type": "unknown"
                },
                {
                  "name": "('cnt', 'mean')",
                  "rawType": "float64",
                  "type": "float"
                },
                {
                  "name": "('cnt', 'max')",
                  "rawType": "int64",
                  "type": "integer"
                },
                {
                  "name": "('cnt', 'min')",
                  "rawType": "int64",
                  "type": "integer"
                },
                {
                  "name": "('casual', 'mean')",
                  "rawType": "float64",
                  "type": "float"
                },
                {
                  "name": "('casual', 'max')",
                  "rawType": "int64",
                  "type": "integer"
                },
                {
                  "name": "('casual', 'min')",
                  "rawType": "int64",
                  "type": "integer"
                },
                {
                  "name": "('registered', 'mean')",
                  "rawType": "float64",
                  "type": "float"
                },
                {
                  "name": "('registered', 'max')",
                  "rawType": "int64",
                  "type": "integer"
                },
                {
                  "name": "('registered', 'min')",
                  "rawType": "int64",
                  "type": "integer"
                }
              ],
              "conversionMethod": "pd.DataFrame",
              "ref": "a04a791b-4009-413c-8b37-4abb5e7b69cc",
              "rows": [
                [
                  "0",
                  "0",
                  "177.46882494004797",
                  "776",
                  "1",
                  "56.1634692246203",
                  "317",
                  "0",
                  "121.30535571542765",
                  "526",
                  "0"
                ],
                [
                  "1",
                  "1",
                  "183.74465510286404",
                  "968",
                  "1",
                  "28.55344897135942",
                  "272",
                  "0",
                  "155.19120613150463",
                  "857",
                  "0"
                ],
                [
                  "2",
                  "2",
                  "191.23889115368937",
                  "970",
                  "1",
                  "23.58051365674684",
                  "178",
                  "0",
                  "167.6583774969425",
                  "871",
                  "0"
                ],
                [
                  "3",
                  "3",
                  "191.13050505050506",
                  "977",
                  "1",
                  "23.15919191919192",
                  "237",
                  "0",
                  "167.97131313131314",
                  "886",
                  "0"
                ],
                [
                  "4",
                  "4",
                  "196.43666531768514",
                  "976",
                  "1",
                  "24.872521246458923",
                  "154",
                  "0",
                  "171.56414407122622",
                  "885",
                  "0"
                ],
                [
                  "5",
                  "5",
                  "196.13590671491758",
                  "957",
                  "1",
                  "31.458785685564937",
                  "264",
                  "0",
                  "164.67712102935263",
                  "757",
                  "0"
                ],
                [
                  "6",
                  "6",
                  "190.20979299363057",
                  "783",
                  "1",
                  "61.246815286624205",
                  "367",
                  "0",
                  "128.96297770700636",
                  "491",
                  "0"
                ]
              ],
              "shape": {
                "columns": 10,
                "rows": 7
              }
            },
            "text/html": [
              "<div>\n",
              "<style scoped>\n",
              "    .dataframe tbody tr th:only-of-type {\n",
              "        vertical-align: middle;\n",
              "    }\n",
              "\n",
              "    .dataframe tbody tr th {\n",
              "        vertical-align: top;\n",
              "    }\n",
              "\n",
              "    .dataframe thead tr th {\n",
              "        text-align: left;\n",
              "    }\n",
              "</style>\n",
              "<table border=\"1\" class=\"dataframe\">\n",
              "  <thead>\n",
              "    <tr>\n",
              "      <th></th>\n",
              "      <th>weekday</th>\n",
              "      <th colspan=\"3\" halign=\"left\">cnt</th>\n",
              "      <th colspan=\"3\" halign=\"left\">casual</th>\n",
              "      <th colspan=\"3\" halign=\"left\">registered</th>\n",
              "    </tr>\n",
              "    <tr>\n",
              "      <th></th>\n",
              "      <th></th>\n",
              "      <th>mean</th>\n",
              "      <th>max</th>\n",
              "      <th>min</th>\n",
              "      <th>mean</th>\n",
              "      <th>max</th>\n",
              "      <th>min</th>\n",
              "      <th>mean</th>\n",
              "      <th>max</th>\n",
              "      <th>min</th>\n",
              "    </tr>\n",
              "  </thead>\n",
              "  <tbody>\n",
              "    <tr>\n",
              "      <th>0</th>\n",
              "      <td>0</td>\n",
              "      <td>177.468825</td>\n",
              "      <td>776</td>\n",
              "      <td>1</td>\n",
              "      <td>56.163469</td>\n",
              "      <td>317</td>\n",
              "      <td>0</td>\n",
              "      <td>121.305356</td>\n",
              "      <td>526</td>\n",
              "      <td>0</td>\n",
              "    </tr>\n",
              "    <tr>\n",
              "      <th>1</th>\n",
              "      <td>1</td>\n",
              "      <td>183.744655</td>\n",
              "      <td>968</td>\n",
              "      <td>1</td>\n",
              "      <td>28.553449</td>\n",
              "      <td>272</td>\n",
              "      <td>0</td>\n",
              "      <td>155.191206</td>\n",
              "      <td>857</td>\n",
              "      <td>0</td>\n",
              "    </tr>\n",
              "    <tr>\n",
              "      <th>2</th>\n",
              "      <td>2</td>\n",
              "      <td>191.238891</td>\n",
              "      <td>970</td>\n",
              "      <td>1</td>\n",
              "      <td>23.580514</td>\n",
              "      <td>178</td>\n",
              "      <td>0</td>\n",
              "      <td>167.658377</td>\n",
              "      <td>871</td>\n",
              "      <td>0</td>\n",
              "    </tr>\n",
              "    <tr>\n",
              "      <th>3</th>\n",
              "      <td>3</td>\n",
              "      <td>191.130505</td>\n",
              "      <td>977</td>\n",
              "      <td>1</td>\n",
              "      <td>23.159192</td>\n",
              "      <td>237</td>\n",
              "      <td>0</td>\n",
              "      <td>167.971313</td>\n",
              "      <td>886</td>\n",
              "      <td>0</td>\n",
              "    </tr>\n",
              "    <tr>\n",
              "      <th>4</th>\n",
              "      <td>4</td>\n",
              "      <td>196.436665</td>\n",
              "      <td>976</td>\n",
              "      <td>1</td>\n",
              "      <td>24.872521</td>\n",
              "      <td>154</td>\n",
              "      <td>0</td>\n",
              "      <td>171.564144</td>\n",
              "      <td>885</td>\n",
              "      <td>0</td>\n",
              "    </tr>\n",
              "    <tr>\n",
              "      <th>5</th>\n",
              "      <td>5</td>\n",
              "      <td>196.135907</td>\n",
              "      <td>957</td>\n",
              "      <td>1</td>\n",
              "      <td>31.458786</td>\n",
              "      <td>264</td>\n",
              "      <td>0</td>\n",
              "      <td>164.677121</td>\n",
              "      <td>757</td>\n",
              "      <td>0</td>\n",
              "    </tr>\n",
              "    <tr>\n",
              "      <th>6</th>\n",
              "      <td>6</td>\n",
              "      <td>190.209793</td>\n",
              "      <td>783</td>\n",
              "      <td>1</td>\n",
              "      <td>61.246815</td>\n",
              "      <td>367</td>\n",
              "      <td>0</td>\n",
              "      <td>128.962978</td>\n",
              "      <td>491</td>\n",
              "      <td>0</td>\n",
              "    </tr>\n",
              "  </tbody>\n",
              "</table>\n",
              "</div>"
            ],
            "text/plain": [
              "  weekday         cnt              casual           registered         \n",
              "                 mean  max min       mean  max min        mean  max min\n",
              "0       0  177.468825  776   1  56.163469  317   0  121.305356  526   0\n",
              "1       1  183.744655  968   1  28.553449  272   0  155.191206  857   0\n",
              "2       2  191.238891  970   1  23.580514  178   0  167.658377  871   0\n",
              "3       3  191.130505  977   1  23.159192  237   0  167.971313  886   0\n",
              "4       4  196.436665  976   1  24.872521  154   0  171.564144  885   0\n",
              "5       5  196.135907  957   1  31.458786  264   0  164.677121  757   0\n",
              "6       6  190.209793  783   1  61.246815  367   0  128.962978  491   0"
            ]
          },
          "execution_count": 155,
          "metadata": {},
          "output_type": "execute_result"
        }
      ],
      "source": [
        "# Pengelompokkan penyewa sepeda berdasarkan hari \n",
        "hour.groupby('weekday', observed=False).agg({\n",
        "    'cnt': ['mean', 'max', 'min'],\n",
        "    'casual': ['mean', 'max', 'min'],\n",
        "    'registered': ['mean', 'max', 'min']\n",
        "}).reset_index()"
      ]
    },
    {
      "cell_type": "markdown",
      "metadata": {},
      "source": [
        "**Insight:** Dapat dilihat bahwa penyewaan sepeda terbanyak pada hari Kamis(4) dan Jumat(5)."
      ]
    },
    {
      "cell_type": "markdown",
      "metadata": {
        "id": "zsyZjqak8DC2"
      },
      "source": [
        "## Visualization & Explanatory Analysis"
      ]
    },
    {
      "cell_type": "markdown",
      "metadata": {
        "id": "HZxOiQ6n8DC2"
      },
      "source": [
        "### Pertanyaan 1: Pada musim apakah rata-rata penyewaan sepeda tertinggi?"
      ]
    },
    {
      "cell_type": "code",
      "execution_count": 156,
      "metadata": {},
      "outputs": [
        {
          "data": {
            "application/vnd.microsoft.datawrangler.viewer.v0+json": {
              "columns": [
                {
                  "name": "index",
                  "rawType": "int64",
                  "type": "integer"
                },
                {
                  "name": "season",
                  "rawType": "category",
                  "type": "unknown"
                },
                {
                  "name": "cnt",
                  "rawType": "float64",
                  "type": "float"
                },
                {
                  "name": "casual",
                  "rawType": "float64",
                  "type": "float"
                },
                {
                  "name": "registered",
                  "rawType": "float64",
                  "type": "float"
                }
              ],
              "conversionMethod": "pd.DataFrame",
              "ref": "198ff6a8-b9d0-46f6-8007-b7b9f809c880",
              "rows": [
                [
                  "0",
                  "1",
                  "111.11456859971712",
                  "14.29090051862329",
                  "96.82366808109383"
                ],
                [
                  "1",
                  "2",
                  "208.34406894987526",
                  "46.160580630528464",
                  "162.1834883193468"
                ],
                [
                  "2",
                  "3",
                  "236.01623665480426",
                  "50.28714412811388",
                  "185.72909252669038"
                ],
                [
                  "3",
                  "4",
                  "198.86885633270322",
                  "30.666824196597354",
                  "168.20203213610586"
                ]
              ],
              "shape": {
                "columns": 4,
                "rows": 4
              }
            },
            "text/html": [
              "<div>\n",
              "<style scoped>\n",
              "    .dataframe tbody tr th:only-of-type {\n",
              "        vertical-align: middle;\n",
              "    }\n",
              "\n",
              "    .dataframe tbody tr th {\n",
              "        vertical-align: top;\n",
              "    }\n",
              "\n",
              "    .dataframe thead th {\n",
              "        text-align: right;\n",
              "    }\n",
              "</style>\n",
              "<table border=\"1\" class=\"dataframe\">\n",
              "  <thead>\n",
              "    <tr style=\"text-align: right;\">\n",
              "      <th></th>\n",
              "      <th>season</th>\n",
              "      <th>cnt</th>\n",
              "      <th>casual</th>\n",
              "      <th>registered</th>\n",
              "    </tr>\n",
              "  </thead>\n",
              "  <tbody>\n",
              "    <tr>\n",
              "      <th>0</th>\n",
              "      <td>1</td>\n",
              "      <td>111.114569</td>\n",
              "      <td>14.290901</td>\n",
              "      <td>96.823668</td>\n",
              "    </tr>\n",
              "    <tr>\n",
              "      <th>1</th>\n",
              "      <td>2</td>\n",
              "      <td>208.344069</td>\n",
              "      <td>46.160581</td>\n",
              "      <td>162.183488</td>\n",
              "    </tr>\n",
              "    <tr>\n",
              "      <th>2</th>\n",
              "      <td>3</td>\n",
              "      <td>236.016237</td>\n",
              "      <td>50.287144</td>\n",
              "      <td>185.729093</td>\n",
              "    </tr>\n",
              "    <tr>\n",
              "      <th>3</th>\n",
              "      <td>4</td>\n",
              "      <td>198.868856</td>\n",
              "      <td>30.666824</td>\n",
              "      <td>168.202032</td>\n",
              "    </tr>\n",
              "  </tbody>\n",
              "</table>\n",
              "</div>"
            ],
            "text/plain": [
              "  season         cnt     casual  registered\n",
              "0      1  111.114569  14.290901   96.823668\n",
              "1      2  208.344069  46.160581  162.183488\n",
              "2      3  236.016237  50.287144  185.729093\n",
              "3      4  198.868856  30.666824  168.202032"
            ]
          },
          "execution_count": 156,
          "metadata": {},
          "output_type": "execute_result"
        }
      ],
      "source": [
        "hour.groupby('season', observed=False).agg({\n",
        "    'cnt': 'mean',\n",
        "    'casual': 'mean',\n",
        "    'registered': 'mean'\n",
        "}).reset_index()"
      ]
    },
    {
      "cell_type": "code",
      "execution_count": 157,
      "metadata": {},
      "outputs": [
        {
          "data": {
            "image/png": "[encoded data removed]",
            "text/plain": [
              "<Figure size 800x600 with 1 Axes>"
            ]
          },
          "metadata": {},
          "output_type": "display_data"
        }
      ],
      "source": [
        "season_mapping = {1: 'Spring', 2: 'Summer', 3: 'Fall', 4: 'Winter'}\n",
        "\n",
        "season_data = hour.groupby('season', observed=False).agg({\n",
        "    'cnt': 'mean',\n",
        "    'casual': 'mean',\n",
        "    'registered': 'mean'\n",
        "}).reset_index()\n",
        "\n",
        "season_data['season'] = season_data['season'].map(season_mapping)\n",
        "\n",
        "order = ['Spring', 'Summer', 'Fall', 'Winter']\n",
        "season_data = season_data.set_index('season').loc[order].reset_index()\n",
        "\n",
        "casual_avg_rentals = season_data['casual']\n",
        "registered_avg_rentals = season_data['registered']\n",
        "\n",
        "plt.figure(figsize=(8, 6))\n",
        "plt.bar(season_data['season'], casual_avg_rentals, color='lightblue', label='Casual', alpha=0.7)\n",
        "plt.bar(season_data['season'], registered_avg_rentals, color='lightcoral', bottom=casual_avg_rentals, label='Registered', alpha=0.7)\n",
        "\n",
        "plt.xlabel('Musim')\n",
        "plt.ylabel('Rata-rata Penyewaan Sepeda')\n",
        "plt.title('Rata-Rata Penyewaan Sepeda Berdasarkan Musim')\n",
        "\n",
        "plt.legend(title='User Rent Bike')\n",
        "\n",
        "plt.show()"
      ]
    },
    {
      "cell_type": "markdown",
      "metadata": {},
      "source": [
        "**Insight:** Dapat dilihat pada hasil di atas, data menunjukkan bahwa musim berdampak signifikan terhadap penyewaan sepeda. umlah penyewaan sepeda paling rendah terjadi pada musim semi (Spring), sedangkan puncak penyewaan terjadi pada musim gugur (Fall). Pengguna terdaftar (Registered) selalu mendominasi jumlah penyewaan dibandingkan pengguna kasual (Casual) di semua musim. Namun, pengguna kasual cenderung lebih banyak menyewa sepeda pada musim panas (Summer) dan musim gugur, yang kemungkinan disebabkan oleh cuaca yang lebih mendukung untuk aktivitas luar ruangan. Meskipun ada sedikit penurunan di musim dingin (Winter), penyewaan sepeda tetap cukup tinggi, terutama oleh pengguna terdaftar, yang mengindikasikan bahwa mereka menggunakan sepeda sebagai alat transportasi rutin terlepas dari musim."
      ]
    },
    {
      "cell_type": "markdown",
      "metadata": {
        "id": "DgHI7CiU8DC2"
      },
      "source": [
        "### Pertanyaan 2: Bagaimana rata-rata pola penyewaan sepeda perbulannya?"
      ]
    },
    {
      "cell_type": "code",
      "execution_count": 158,
      "metadata": {},
      "outputs": [
        {
          "data": {
            "application/vnd.microsoft.datawrangler.viewer.v0+json": {
              "columns": [
                {
                  "name": "index",
                  "rawType": "int64",
                  "type": "integer"
                },
                {
                  "name": "yr",
                  "rawType": "category",
                  "type": "unknown"
                },
                {
                  "name": "mnth",
                  "rawType": "category",
                  "type": "unknown"
                },
                {
                  "name": "cnt",
                  "rawType": "float64",
                  "type": "float"
                },
                {
                  "name": "casual",
                  "rawType": "float64",
                  "type": "float"
                },
                {
                  "name": "registered",
                  "rawType": "float64",
                  "type": "float"
                }
              ],
              "conversionMethod": "pd.DataFrame",
              "ref": "66bc765b-b23d-4b77-b2e6-9f7938827ab4",
              "rows": [
                [
                  "0",
                  "0",
                  "1",
                  "55.50726744186046",
                  "4.46656976744186",
                  "51.0406976744186"
                ],
                [
                  "1",
                  "0",
                  "2",
                  "74.29121725731895",
                  "9.617873651771957",
                  "64.67334360554699"
                ],
                [
                  "2",
                  "0",
                  "3",
                  "87.73287671232876",
                  "17.56986301369863",
                  "70.16301369863014"
                ],
                [
                  "3",
                  "0",
                  "4",
                  "131.9471488178025",
                  "31.079276773296243",
                  "100.86787204450626"
                ],
                [
                  "4",
                  "0",
                  "5",
                  "182.55510752688173",
                  "41.733870967741936",
                  "140.82123655913978"
                ],
                [
                  "5",
                  "0",
                  "6",
                  "199.32222222222222",
                  "42.516666666666666",
                  "156.80555555555554"
                ],
                [
                  "6",
                  "0",
                  "7",
                  "189.9744623655914",
                  "48.994623655913976",
                  "140.9798387096774"
                ],
                [
                  "7",
                  "0",
                  "8",
                  "186.99179206566347",
                  "39.45554035567716",
                  "147.53625170998632"
                ],
                [
                  "8",
                  "0",
                  "9",
                  "177.70990237099025",
                  "37.02231520223152",
                  "140.6875871687587"
                ],
                [
                  "9",
                  "0",
                  "10",
                  "166.2328398384926",
                  "33.94616419919247",
                  "132.28667563930014"
                ],
                [
                  "10",
                  "0",
                  "11",
                  "142.09596662030597",
                  "21.688456189151598",
                  "120.40751043115438"
                ],
                [
                  "11",
                  "0",
                  "12",
                  "117.84480431848853",
                  "11.40080971659919",
                  "106.44399460188934"
                ],
                [
                  "12",
                  "1",
                  "1",
                  "130.5587044534413",
                  "12.10391363022942",
                  "118.45479082321188"
                ],
                [
                  "13",
                  "1",
                  "2",
                  "149.04190751445086",
                  "12.602601156069364",
                  "136.43930635838151"
                ],
                [
                  "14",
                  "1",
                  "3",
                  "221.90444145356662",
                  "42.55450874831763",
                  "179.349932705249"
                ],
                [
                  "15",
                  "1",
                  "4",
                  "242.6518105849582",
                  "53.559888579387184",
                  "189.09192200557104"
                ],
                [
                  "16",
                  "1",
                  "5",
                  "263.25940860215053",
                  "59.45564516129032",
                  "203.80376344086022"
                ],
                [
                  "17",
                  "1",
                  "6",
                  "281.7083333333333",
                  "60.13055555555555",
                  "221.57777777777778"
                ],
                [
                  "18",
                  "1",
                  "7",
                  "273.6653225806452",
                  "56.05510752688172",
                  "217.61021505376345"
                ],
                [
                  "19",
                  "1",
                  "8",
                  "288.31048387096774",
                  "58.060483870967744",
                  "230.25"
                ],
                [
                  "20",
                  "1",
                  "9",
                  "303.5736111111111",
                  "60.80277777777778",
                  "242.77083333333334"
                ],
                [
                  "21",
                  "1",
                  "10",
                  "280.84887005649716",
                  "48.782485875706215",
                  "232.06638418079095"
                ],
                [
                  "22",
                  "1",
                  "11",
                  "212.62395543175487",
                  "29.26044568245125",
                  "183.36350974930363"
                ],
                [
                  "23",
                  "1",
                  "12",
                  "166.72911051212938",
                  "17.850404312668463",
                  "148.8787061994609"
                ]
              ],
              "shape": {
                "columns": 5,
                "rows": 24
              }
            },
            "text/html": [
              "<div>\n",
              "<style scoped>\n",
              "    .dataframe tbody tr th:only-of-type {\n",
              "        vertical-align: middle;\n",
              "    }\n",
              "\n",
              "    .dataframe tbody tr th {\n",
              "        vertical-align: top;\n",
              "    }\n",
              "\n",
              "    .dataframe thead th {\n",
              "        text-align: right;\n",
              "    }\n",
              "</style>\n",
              "<table border=\"1\" class=\"dataframe\">\n",
              "  <thead>\n",
              "    <tr style=\"text-align: right;\">\n",
              "      <th></th>\n",
              "      <th>yr</th>\n",
              "      <th>mnth</th>\n",
              "      <th>cnt</th>\n",
              "      <th>casual</th>\n",
              "      <th>registered</th>\n",
              "    </tr>\n",
              "  </thead>\n",
              "  <tbody>\n",
              "    <tr>\n",
              "      <th>0</th>\n",
              "      <td>0</td>\n",
              "      <td>1</td>\n",
              "      <td>55.507267</td>\n",
              "      <td>4.466570</td>\n",
              "      <td>51.040698</td>\n",
              "    </tr>\n",
              "    <tr>\n",
              "      <th>1</th>\n",
              "      <td>0</td>\n",
              "      <td>2</td>\n",
              "      <td>74.291217</td>\n",
              "      <td>9.617874</td>\n",
              "      <td>64.673344</td>\n",
              "    </tr>\n",
              "    <tr>\n",
              "      <th>2</th>\n",
              "      <td>0</td>\n",
              "      <td>3</td>\n",
              "      <td>87.732877</td>\n",
              "      <td>17.569863</td>\n",
              "      <td>70.163014</td>\n",
              "    </tr>\n",
              "    <tr>\n",
              "      <th>3</th>\n",
              "      <td>0</td>\n",
              "      <td>4</td>\n",
              "      <td>131.947149</td>\n",
              "      <td>31.079277</td>\n",
              "      <td>100.867872</td>\n",
              "    </tr>\n",
              "    <tr>\n",
              "      <th>4</th>\n",
              "      <td>0</td>\n",
              "      <td>5</td>\n",
              "      <td>182.555108</td>\n",
              "      <td>41.733871</td>\n",
              "      <td>140.821237</td>\n",
              "    </tr>\n",
              "    <tr>\n",
              "      <th>5</th>\n",
              "      <td>0</td>\n",
              "      <td>6</td>\n",
              "      <td>199.322222</td>\n",
              "      <td>42.516667</td>\n",
              "      <td>156.805556</td>\n",
              "    </tr>\n",
              "    <tr>\n",
              "      <th>6</th>\n",
              "      <td>0</td>\n",
              "      <td>7</td>\n",
              "      <td>189.974462</td>\n",
              "      <td>48.994624</td>\n",
              "      <td>140.979839</td>\n",
              "    </tr>\n",
              "    <tr>\n",
              "      <th>7</th>\n",
              "      <td>0</td>\n",
              "      <td>8</td>\n",
              "      <td>186.991792</td>\n",
              "      <td>39.455540</td>\n",
              "      <td>147.536252</td>\n",
              "    </tr>\n",
              "    <tr>\n",
              "      <th>8</th>\n",
              "      <td>0</td>\n",
              "      <td>9</td>\n",
              "      <td>177.709902</td>\n",
              "      <td>37.022315</td>\n",
              "      <td>140.687587</td>\n",
              "    </tr>\n",
              "    <tr>\n",
              "      <th>9</th>\n",
              "      <td>0</td>\n",
              "      <td>10</td>\n",
              "      <td>166.232840</td>\n",
              "      <td>33.946164</td>\n",
              "      <td>132.286676</td>\n",
              "    </tr>\n",
              "    <tr>\n",
              "      <th>10</th>\n",
              "      <td>0</td>\n",
              "      <td>11</td>\n",
              "      <td>142.095967</td>\n",
              "      <td>21.688456</td>\n",
              "      <td>120.407510</td>\n",
              "    </tr>\n",
              "    <tr>\n",
              "      <th>11</th>\n",
              "      <td>0</td>\n",
              "      <td>12</td>\n",
              "      <td>117.844804</td>\n",
              "      <td>11.400810</td>\n",
              "      <td>106.443995</td>\n",
              "    </tr>\n",
              "    <tr>\n",
              "      <th>12</th>\n",
              "      <td>1</td>\n",
              "      <td>1</td>\n",
              "      <td>130.558704</td>\n",
              "      <td>12.103914</td>\n",
              "      <td>118.454791</td>\n",
              "    </tr>\n",
              "    <tr>\n",
              "      <th>13</th>\n",
              "      <td>1</td>\n",
              "      <td>2</td>\n",
              "      <td>149.041908</td>\n",
              "      <td>12.602601</td>\n",
              "      <td>136.439306</td>\n",
              "    </tr>\n",
              "    <tr>\n",
              "      <th>14</th>\n",
              "      <td>1</td>\n",
              "      <td>3</td>\n",
              "      <td>221.904441</td>\n",
              "      <td>42.554509</td>\n",
              "      <td>179.349933</td>\n",
              "    </tr>\n",
              "    <tr>\n",
              "      <th>15</th>\n",
              "      <td>1</td>\n",
              "      <td>4</td>\n",
              "      <td>242.651811</td>\n",
              "      <td>53.559889</td>\n",
              "      <td>189.091922</td>\n",
              "    </tr>\n",
              "    <tr>\n",
              "      <th>16</th>\n",
              "      <td>1</td>\n",
              "      <td>5</td>\n",
              "      <td>263.259409</td>\n",
              "      <td>59.455645</td>\n",
              "      <td>203.803763</td>\n",
              "    </tr>\n",
              "    <tr>\n",
              "      <th>17</th>\n",
              "      <td>1</td>\n",
              "      <td>6</td>\n",
              "      <td>281.708333</td>\n",
              "      <td>60.130556</td>\n",
              "      <td>221.577778</td>\n",
              "    </tr>\n",
              "    <tr>\n",
              "      <th>18</th>\n",
              "      <td>1</td>\n",
              "      <td>7</td>\n",
              "      <td>273.665323</td>\n",
              "      <td>56.055108</td>\n",
              "      <td>217.610215</td>\n",
              "    </tr>\n",
              "    <tr>\n",
              "      <th>19</th>\n",
              "      <td>1</td>\n",
              "      <td>8</td>\n",
              "      <td>288.310484</td>\n",
              "      <td>58.060484</td>\n",
              "      <td>230.250000</td>\n",
              "    </tr>\n",
              "    <tr>\n",
              "      <th>20</th>\n",
              "      <td>1</td>\n",
              "      <td>9</td>\n",
              "      <td>303.573611</td>\n",
              "      <td>60.802778</td>\n",
              "      <td>242.770833</td>\n",
              "    </tr>\n",
              "    <tr>\n",
              "      <th>21</th>\n",
              "      <td>1</td>\n",
              "      <td>10</td>\n",
              "      <td>280.848870</td>\n",
              "      <td>48.782486</td>\n",
              "      <td>232.066384</td>\n",
              "    </tr>\n",
              "    <tr>\n",
              "      <th>22</th>\n",
              "      <td>1</td>\n",
              "      <td>11</td>\n",
              "      <td>212.623955</td>\n",
              "      <td>29.260446</td>\n",
              "      <td>183.363510</td>\n",
              "    </tr>\n",
              "    <tr>\n",
              "      <th>23</th>\n",
              "      <td>1</td>\n",
              "      <td>12</td>\n",
              "      <td>166.729111</td>\n",
              "      <td>17.850404</td>\n",
              "      <td>148.878706</td>\n",
              "    </tr>\n",
              "  </tbody>\n",
              "</table>\n",
              "</div>"
            ],
            "text/plain": [
              "   yr mnth         cnt     casual  registered\n",
              "0   0    1   55.507267   4.466570   51.040698\n",
              "1   0    2   74.291217   9.617874   64.673344\n",
              "2   0    3   87.732877  17.569863   70.163014\n",
              "3   0    4  131.947149  31.079277  100.867872\n",
              "4   0    5  182.555108  41.733871  140.821237\n",
              "5   0    6  199.322222  42.516667  156.805556\n",
              "6   0    7  189.974462  48.994624  140.979839\n",
              "7   0    8  186.991792  39.455540  147.536252\n",
              "8   0    9  177.709902  37.022315  140.687587\n",
              "9   0   10  166.232840  33.946164  132.286676\n",
              "10  0   11  142.095967  21.688456  120.407510\n",
              "11  0   12  117.844804  11.400810  106.443995\n",
              "12  1    1  130.558704  12.103914  118.454791\n",
              "13  1    2  149.041908  12.602601  136.439306\n",
              "14  1    3  221.904441  42.554509  179.349933\n",
              "15  1    4  242.651811  53.559889  189.091922\n",
              "16  1    5  263.259409  59.455645  203.803763\n",
              "17  1    6  281.708333  60.130556  221.577778\n",
              "18  1    7  273.665323  56.055108  217.610215\n",
              "19  1    8  288.310484  58.060484  230.250000\n",
              "20  1    9  303.573611  60.802778  242.770833\n",
              "21  1   10  280.848870  48.782486  232.066384\n",
              "22  1   11  212.623955  29.260446  183.363510\n",
              "23  1   12  166.729111  17.850404  148.878706"
            ]
          },
          "execution_count": 158,
          "metadata": {},
          "output_type": "execute_result"
        }
      ],
      "source": [
        "hour.groupby(['yr', 'mnth'], observed=False).agg({ \n",
        "    'cnt': 'mean',\n",
        "    'casual': 'mean',\n",
        "    'registered': 'mean'\n",
        "}).reset_index()"
      ]
    },
    {
      "cell_type": "code",
      "execution_count": 159,
      "metadata": {},
      "outputs": [
        {
          "data": {
            "image/png": "[encoded data removed]",
            "text/plain": [
              "<Figure size 1200x600 with 1 Axes>"
            ]
          },
          "metadata": {},
          "output_type": "display_data"
        }
      ],
      "source": [
        "agg_data = hour.groupby(['yr', 'mnth'], observed=False).agg({ \n",
        "    'cnt': 'mean',\n",
        "    'casual': 'mean',\n",
        "    'registered': 'mean'\n",
        "}).reset_index()\n",
        "\n",
        "agg_data['yr'] = agg_data['yr'].astype(int)\n",
        "agg_data['mnth'] = agg_data['mnth'].astype(int)\n",
        "agg_data['period'] = agg_data['yr'].replace({0: 2011, 1: 2012}).astype(str) + ' - ' + agg_data['mnth'].apply(lambda x: calendar.month_abbr[x])\n",
        "\n",
        "plt.figure(figsize=(12, 6))\n",
        "sns.lineplot(x='period', y='cnt', data=agg_data, label='Mean Count', marker='o')\n",
        "sns.lineplot(x='period', y='casual', data=agg_data, label='Mean Casual', marker='s')\n",
        "sns.lineplot(x='period', y='registered', data=agg_data, label='Mean Registered', marker='^')\n",
        "\n",
        "plt.xticks(rotation=45)\n",
        "plt.xlabel('Period')\n",
        "plt.ylabel('Rata-rata')\n",
        "plt.title('Pola Tren Rata-Rata Penyewaan Sepeda Perbulan')\n",
        "plt.legend()\n",
        "plt.grid(False)\n",
        "plt.show()"
      ]
    },
    {
      "cell_type": "markdown",
      "metadata": {},
      "source": [
        "**Insight:** Dapat dilihat pada hasil di atas, grafik menunjukkan tren rata-rata jumlah penyewaan sepeda berdasarkan bulan dan tahun dengan pola musiman yang jelas. Jumlah penyewaan cenderung rendah di awal tahun, kemudian mengalami peningkatan signifikan di pertengahan tahun, dan mengalami penurunan di akhir tahun. Pengguna terdaftar memiliki tren penyewaan yang lebih stabil dibandingkan pengguna kasual, yang lebih fluktuatif. Tahun 2012 menunjukkan peningkatan jumlah penyewaan dibandingkan 2011."
      ]
    },
    {
      "cell_type": "markdown",
      "metadata": {},
      "source": [
        "### Pertanyaan 3: Bagaimana rata-rata jumlah sewa sepeda perhari?"
      ]
    },
    {
      "cell_type": "code",
      "execution_count": 160,
      "metadata": {},
      "outputs": [
        {
          "data": {
            "application/vnd.microsoft.datawrangler.viewer.v0+json": {
              "columns": [
                {
                  "name": "index",
                  "rawType": "int64",
                  "type": "integer"
                },
                {
                  "name": "weekday",
                  "rawType": "category",
                  "type": "unknown"
                },
                {
                  "name": "cnt",
                  "rawType": "float64",
                  "type": "float"
                },
                {
                  "name": "casual",
                  "rawType": "float64",
                  "type": "float"
                },
                {
                  "name": "registered",
                  "rawType": "float64",
                  "type": "float"
                }
              ],
              "conversionMethod": "pd.DataFrame",
              "ref": "c1acb737-3a1a-4385-98eb-721413b515d3",
              "rows": [
                [
                  "0",
                  "0",
                  "177.46882494004797",
                  "56.1634692246203",
                  "121.30535571542765"
                ],
                [
                  "1",
                  "1",
                  "183.74465510286404",
                  "28.55344897135942",
                  "155.19120613150463"
                ],
                [
                  "2",
                  "2",
                  "191.23889115368937",
                  "23.58051365674684",
                  "167.6583774969425"
                ],
                [
                  "3",
                  "3",
                  "191.13050505050506",
                  "23.15919191919192",
                  "167.97131313131314"
                ],
                [
                  "4",
                  "4",
                  "196.43666531768514",
                  "24.872521246458923",
                  "171.56414407122622"
                ],
                [
                  "5",
                  "5",
                  "196.13590671491758",
                  "31.458785685564937",
                  "164.67712102935263"
                ],
                [
                  "6",
                  "6",
                  "190.20979299363057",
                  "61.246815286624205",
                  "128.96297770700636"
                ]
              ],
              "shape": {
                "columns": 4,
                "rows": 7
              }
            },
            "text/html": [
              "<div>\n",
              "<style scoped>\n",
              "    .dataframe tbody tr th:only-of-type {\n",
              "        vertical-align: middle;\n",
              "    }\n",
              "\n",
              "    .dataframe tbody tr th {\n",
              "        vertical-align: top;\n",
              "    }\n",
              "\n",
              "    .dataframe thead th {\n",
              "        text-align: right;\n",
              "    }\n",
              "</style>\n",
              "<table border=\"1\" class=\"dataframe\">\n",
              "  <thead>\n",
              "    <tr style=\"text-align: right;\">\n",
              "      <th></th>\n",
              "      <th>weekday</th>\n",
              "      <th>cnt</th>\n",
              "      <th>casual</th>\n",
              "      <th>registered</th>\n",
              "    </tr>\n",
              "  </thead>\n",
              "  <tbody>\n",
              "    <tr>\n",
              "      <th>0</th>\n",
              "      <td>0</td>\n",
              "      <td>177.468825</td>\n",
              "      <td>56.163469</td>\n",
              "      <td>121.305356</td>\n",
              "    </tr>\n",
              "    <tr>\n",
              "      <th>1</th>\n",
              "      <td>1</td>\n",
              "      <td>183.744655</td>\n",
              "      <td>28.553449</td>\n",
              "      <td>155.191206</td>\n",
              "    </tr>\n",
              "    <tr>\n",
              "      <th>2</th>\n",
              "      <td>2</td>\n",
              "      <td>191.238891</td>\n",
              "      <td>23.580514</td>\n",
              "      <td>167.658377</td>\n",
              "    </tr>\n",
              "    <tr>\n",
              "      <th>3</th>\n",
              "      <td>3</td>\n",
              "      <td>191.130505</td>\n",
              "      <td>23.159192</td>\n",
              "      <td>167.971313</td>\n",
              "    </tr>\n",
              "    <tr>\n",
              "      <th>4</th>\n",
              "      <td>4</td>\n",
              "      <td>196.436665</td>\n",
              "      <td>24.872521</td>\n",
              "      <td>171.564144</td>\n",
              "    </tr>\n",
              "    <tr>\n",
              "      <th>5</th>\n",
              "      <td>5</td>\n",
              "      <td>196.135907</td>\n",
              "      <td>31.458786</td>\n",
              "      <td>164.677121</td>\n",
              "    </tr>\n",
              "    <tr>\n",
              "      <th>6</th>\n",
              "      <td>6</td>\n",
              "      <td>190.209793</td>\n",
              "      <td>61.246815</td>\n",
              "      <td>128.962978</td>\n",
              "    </tr>\n",
              "  </tbody>\n",
              "</table>\n",
              "</div>"
            ],
            "text/plain": [
              "  weekday         cnt     casual  registered\n",
              "0       0  177.468825  56.163469  121.305356\n",
              "1       1  183.744655  28.553449  155.191206\n",
              "2       2  191.238891  23.580514  167.658377\n",
              "3       3  191.130505  23.159192  167.971313\n",
              "4       4  196.436665  24.872521  171.564144\n",
              "5       5  196.135907  31.458786  164.677121\n",
              "6       6  190.209793  61.246815  128.962978"
            ]
          },
          "execution_count": 160,
          "metadata": {},
          "output_type": "execute_result"
        }
      ],
      "source": [
        "hour.groupby('weekday', observed=False).agg({\n",
        "    'cnt': 'mean',\n",
        "    'casual': 'mean',\n",
        "    'registered': 'mean'\n",
        "}).reset_index()"
      ]
    },
    {
      "cell_type": "code",
      "execution_count": 161,
      "metadata": {},
      "outputs": [
        {
          "data": {
            "image/png": "[encoded data removed]",
            "text/plain": [
              "<Figure size 1000x600 with 1 Axes>"
            ]
          },
          "metadata": {},
          "output_type": "display_data"
        }
      ],
      "source": [
        "weekday_mapping = {0: 'Sunday', 1: 'Monday', 2: 'Tuesday', 3: 'Wednesday', \n",
        "                   4: 'Thursday', 5: 'Friday', 6: 'Saturday'}\n",
        "\n",
        "weekday_data = hour.groupby('weekday', observed=False).agg({\n",
        "    'cnt': 'mean',\n",
        "    'casual': 'mean',\n",
        "    'registered': 'mean'\n",
        "}).reset_index()\n",
        "\n",
        "weekday_data['weekday'] = weekday_data['weekday'].map(weekday_mapping)\n",
        "\n",
        "order = ['Monday', 'Tuesday', 'Wednesday', 'Thursday', 'Friday', 'Saturday', 'Sunday']\n",
        "weekday_data = weekday_data.set_index('weekday').loc[order].reset_index()\n",
        "\n",
        "casual_avg_rentals = weekday_data['casual']\n",
        "registered_avg_rentals = weekday_data['registered']\n",
        "\n",
        "plt.figure(figsize=(10, 6))\n",
        "plt.bar(weekday_data['weekday'], casual_avg_rentals, color='lightblue', label='Casual', alpha=0.7)\n",
        "plt.bar(weekday_data['weekday'], registered_avg_rentals, color='lightcoral', bottom=casual_avg_rentals, label='Registered', alpha=0.7)\n",
        "\n",
        "plt.xlabel('Hari')\n",
        "plt.ylabel('Rata-rata Penyewaan Sepeda')\n",
        "plt.title('Rata-Rata Penyewaan Sepeda Berdasarkan Hari')\n",
        "\n",
        "plt.legend(title='User Rent Bike')\n",
        "\n",
        "plt.show()"
      ]
    },
    {
      "cell_type": "markdown",
      "metadata": {},
      "source": [
        "**Insight:** Grafik menunjukkan rata-rata penyewaan sepeda harian. Secara umum, jumlah penyewaan sepeda oleh pengguna terdaftar jauh lebih tinggi dibandingkan pengguna kasual setiap harinya. Namun, terdapat peningkatan signifikan dalam jumlah penyewaan oleh pengguna kasual pada hari Sabtu dan Minggu, yang menunjukkan tren bahwa pengguna kasual lebih banyak menyewa sepeda saat akhir pekan dibandingkan hari kerja. Sebaliknya, pengguna terdaftar cenderung memiliki pola penyewaan yang konsisten sepanjang minggu. Hal ini mengindikasikan bahwa pengguna kasual lebih memanfaatkan sepeda untuk rekreasi di akhir pekan, sementara pengguna terdaftar kemungkinan besar menggunakan sepeda sebagai sarana transportasi rutin."
      ]
    },
    {
      "cell_type": "markdown",
      "metadata": {
        "id": "_WeHlCeX8DC2"
      },
      "source": [
        "## Conclusion"
      ]
    },
    {
      "cell_type": "markdown",
      "metadata": {
        "id": "ZTcyR48Y8DC2"
      },
      "source": [
        "- Data menunjukkan bahwa musim berdampak signifikan terhadap penyewaan sepeda. umlah penyewaan sepeda paling rendah terjadi pada musim semi (Spring), sedangkan puncak penyewaan terjadi pada musim gugur (Fall). Pengguna terdaftar (Registered) selalu mendominasi jumlah penyewaan dibandingkan pengguna kasual (Casual) di semua musim. Namun, pengguna kasual cenderung lebih banyak menyewa sepeda pada musim panas (Summer) dan musim gugur, yang kemungkinan disebabkan oleh cuaca yang lebih mendukung untuk aktivitas luar ruangan. Meskipun ada sedikit penurunan di musim dingin (Winter), penyewaan sepeda tetap cukup tinggi, terutama oleh pengguna terdaftar, yang mengindikasikan bahwa mereka menggunakan sepeda sebagai alat transportasi rutin terlepas dari musim.\n",
        "- Jumlah penyewaan cenderung rendah di awal tahun, kemudian mengalami peningkatan signifikan di pertengahan tahun, dan mengalami penurunan di akhir tahun. Pengguna terdaftar memiliki tren penyewaan yang lebih stabil dibandingkan pengguna kasual, yang lebih fluktuatif. Tahun 2012 menunjukkan peningkatan jumlah penyewaan dibandingkan 2011.\n",
        "- Jumlah penyewaan sepeda oleh pengguna terdaftar jauh lebih tinggi dibandingkan pengguna kasual setiap harinya. Namun, terdapat peningkatan signifikan dalam jumlah penyewaan oleh pengguna kasual pada hari Sabtu dan Minggu, yang menunjukkan tren bahwa pengguna kasual lebih banyak menyewa sepeda saat akhir pekan dibandingkan hari kerja. Sebaliknya, pengguna terdaftar cenderung memiliki pola penyewaan yang konsisten sepanjang minggu. Hal ini mengindikasikan bahwa pengguna kasual lebih memanfaatkan sepeda untuk rekreasi di akhir pekan, sementara pengguna terdaftar kemungkinan besar menggunakan sepeda sebagai sarana transportasi rutin."
      ]
    }
  ],
  "metadata": {
    "colab": {
      "provenance": []
    },
    "kernelspec": {
      "display_name": "Python 3",
      "language": "python",
      "name": "python3"
    },
    "language_info": {
      "codemirror_mode": {
        "name": "ipython",
        "version": 3
      },
      "file_extension": ".py",
      "mimetype": "text/x-python",
      "name": "python",
      "nbconvert_exporter": "python",
      "pygments_lexer": "ipython3",
      "version": "3.13.2"
    },
    "orig_nbformat": 4,
    "vscode": {
      "interpreter": {
        "hash": "972b3bf27e332e87b5379f2791f6ef9dfc79c71018c370b0d7423235e20fe4d7"
      }
    }
  },
  "nbformat": 4,
  "nbformat_minor": 0
}
